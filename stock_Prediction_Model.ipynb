{
  "nbformat": 4,
  "nbformat_minor": 0,
  "metadata": {
    "colab": {
      "provenance": []
    },
    "kernelspec": {
      "name": "python3",
      "display_name": "Python 3"
    },
    "language_info": {
      "name": "python"
    }
  },
  "cells": [
    {
      "cell_type": "code",
      "execution_count": 56,
      "metadata": {
        "id": "YUieoPZt-UK6"
      },
      "outputs": [],
      "source": [
        "import pandas as pd"
      ]
    },
    {
      "cell_type": "code",
      "source": [
        "df = pd.read_csv('NvidiaStock.csv')\n",
        "df = df.reset_index()['close']"
      ],
      "metadata": {
        "id": "JwGZSslKLAZj"
      },
      "execution_count": 58,
      "outputs": []
    },
    {
      "cell_type": "code",
      "source": [
        "df.shape"
      ],
      "metadata": {
        "colab": {
          "base_uri": "https://localhost:8080/"
        },
        "id": "RWYykA0CNc5X",
        "outputId": "9c89ae56-054b-4cf4-9bcd-35742a5803e9"
      },
      "execution_count": 59,
      "outputs": [
        {
          "output_type": "execute_result",
          "data": {
            "text/plain": [
              "(2369,)"
            ]
          },
          "metadata": {},
          "execution_count": 59
        }
      ]
    },
    {
      "cell_type": "code",
      "source": [
        "import matplotlib.pyplot as plt\n",
        "# df\n",
        "plt.plot(df)"
      ],
      "metadata": {
        "colab": {
          "base_uri": "https://localhost:8080/",
          "height": 447
        },
        "id": "LOUvf6QoR_nS",
        "outputId": "fd20cdf0-dff1-431a-8c44-4f74358afb32"
      },
      "execution_count": 64,
      "outputs": [
        {
          "output_type": "execute_result",
          "data": {
            "text/plain": [
              "[<matplotlib.lines.Line2D at 0x7ccfee96b0a0>]"
            ]
          },
          "metadata": {},
          "execution_count": 64
        },
        {
          "output_type": "display_data",
          "data": {
            "text/plain": [
              "<Figure size 640x480 with 1 Axes>"
            ],
            "image/png": "[encoded data removed]"
          },
          "metadata": {}
        }
      ]
    },
    {
      "cell_type": "code",
      "source": [
        "import numpy as np\n",
        "from sklearn.preprocessing import MinMaxScaler\n",
        "scaler = MinMaxScaler(feature_range=(0,1))\n",
        "df = scaler.fit_transform(np.array(df).reshape(-1,1))"
      ],
      "metadata": {
        "id": "RTZrQcOVSLN3"
      },
      "execution_count": 62,
      "outputs": []
    },
    {
      "cell_type": "code",
      "source": [
        "df.shape"
      ],
      "metadata": {
        "colab": {
          "base_uri": "https://localhost:8080/"
        },
        "id": "nEGSTFyLUUzu",
        "outputId": "f6edeea6-732c-4127-bc67-f847ecc425dd"
      },
      "execution_count": 63,
      "outputs": [
        {
          "output_type": "execute_result",
          "data": {
            "text/plain": [
              "(2369, 1)"
            ]
          },
          "metadata": {},
          "execution_count": 63
        }
      ]
    },
    {
      "cell_type": "code",
      "source": [
        "training_size = int(len(df)*0.65)\n",
        "test_size = len(df) - training_size\n",
        "train_data,test_data = df[0:training_size,:],df[training_size:len(df),:1]"
      ],
      "metadata": {
        "id": "64FBU315UXBi"
      },
      "execution_count": 65,
      "outputs": []
    },
    {
      "cell_type": "code",
      "source": [
        "def create_dataset(dataset,time_step=1):\n",
        "    dataX,dataY = [],[]\n",
        "    for i in range(len(dataset)-time_step-1):\n",
        "        a = dataset[i:(i+time_step),0]\n",
        "        dataX.append(a)\n",
        "        dataY.append(dataset[i+time_step,0])\n",
        "    return np.array(dataX),np.array(dataY)\n",
        "\n",
        "#example---\n",
        "# dataset = np.array([[1], [2], [3], [4], [5], [6], [7], [8], [9], [10]])\n",
        "# time_step = 3\n",
        "# dataX = [[1, 2, 3],\n",
        "#          [2, 3, 4],\n",
        "#          [3, 4, 5],\n",
        "#          [4, 5, 6],\n",
        "#          [5, 6, 7],\n",
        "#          [6, 7, 8]]\n",
        "\n",
        "# dataY = [4, 5, 6, 7, 8, 9]\n"
      ],
      "metadata": {
        "id": "ICOLxkZdi3Lo"
      },
      "execution_count": 66,
      "outputs": []
    },
    {
      "cell_type": "code",
      "source": [
        "time_step=100\n",
        "x_train,y_train = create_dataset(train_data,time_step)\n",
        "x_test,y_test = create_dataset(test_data,time_step)"
      ],
      "metadata": {
        "id": "IM1qGxFSjMfB"
      },
      "execution_count": 88,
      "outputs": []
    },
    {
      "cell_type": "code",
      "source": [
        "#reshaping it to 3d (which is needed for lstm)\n",
        "x_train = x_train.reshape(x_train.shape[0],x_train.shape[1],1)\n",
        "x_test = x_test.reshape(x_test.shape[0],x_test.shape[1],1)"
      ],
      "metadata": {
        "id": "OSGcY1_zlsnA"
      },
      "execution_count": 89,
      "outputs": []
    },
    {
      "cell_type": "code",
      "source": [
        "#creating a stacked LSTM Model\n",
        "from tensorflow.keras.models import Sequential\n",
        "from tensorflow.keras.layers import Dense\n",
        "from tensorflow.keras.layers import LSTM"
      ],
      "metadata": {
        "id": "swP6EGgGmNEP"
      },
      "execution_count": 90,
      "outputs": []
    },
    {
      "cell_type": "code",
      "source": [
        "model = Sequential()\n",
        "model.add(LSTM(50,return_sequences=True,input_shape=(100,1)))\n",
        "model.add(LSTM(50,return_sequences=True))\n",
        "model.add(LSTM(50))\n",
        "model.add(Dense(1))\n",
        "model.compile(loss='mean_squared_error',optimizer='adam')"
      ],
      "metadata": {
        "colab": {
          "base_uri": "https://localhost:8080/"
        },
        "id": "tubbw0H5mSX6",
        "outputId": "deeb1819-023a-40b1-d503-4c18fb699d03"
      },
      "execution_count": 91,
      "outputs": [
        {
          "output_type": "stream",
          "name": "stderr",
          "text": [
            "/usr/local/lib/python3.10/dist-packages/keras/src/layers/rnn/rnn.py:204: UserWarning: Do not pass an `input_shape`/`input_dim` argument to a layer. When using Sequential models, prefer using an `Input(shape)` object as the first layer in the model instead.\n",
            "  super().__init__(**kwargs)\n"
          ]
        }
      ]
    },
    {
      "cell_type": "code",
      "source": [
        "model.summary()"
      ],
      "metadata": {
        "colab": {
          "base_uri": "https://localhost:8080/",
          "height": 289
        },
        "id": "5Ztmwq4nmxnS",
        "outputId": "3e272783-1894-4285-b36a-18138c7ac1fb"
      },
      "execution_count": 81,
      "outputs": [
        {
          "output_type": "display_data",
          "data": {
            "text/plain": [
              "\u001b[1mModel: \"sequential\"\u001b[0m\n"
            ],
            "text/html": [
              "<pre style=\"white-space:pre;overflow-x:auto;line-height:normal;font-family:Menlo,'DejaVu Sans Mono',consolas,'Courier New',monospace\"><span style=\"font-weight: bold\">Model: \"sequential\"</span>\n",
              "</pre>\n"
            ]
          },
          "metadata": {}
        },
        {
          "output_type": "display_data",
          "data": {
            "text/plain": [
              "┏━━━━━━━━━━━━━━━━━━━━━━━━━━━━━━━━━━━━━━┳━━━━━━━━━━━━━━━━━━━━━━━━━━━━━┳━━━━━━━━━━━━━━━━━┓\n",
              "┃\u001b[1m \u001b[0m\u001b[1mLayer (type)                        \u001b[0m\u001b[1m \u001b[0m┃\u001b[1m \u001b[0m\u001b[1mOutput Shape               \u001b[0m\u001b[1m \u001b[0m┃\u001b[1m \u001b[0m\u001b[1m        Param #\u001b[0m\u001b[1m \u001b[0m┃\n",
              "┡━━━━━━━━━━━━━━━━━━━━━━━━━━━━━━━━━━━━━━╇━━━━━━━━━━━━━━━━━━━━━━━━━━━━━╇━━━━━━━━━━━━━━━━━┩\n",
              "│ lstm (\u001b[38;5;33mLSTM\u001b[0m)                          │ (\u001b[38;5;45mNone\u001b[0m, \u001b[38;5;34m100\u001b[0m, \u001b[38;5;34m50\u001b[0m)             │          \u001b[38;5;34m10,400\u001b[0m │\n",
              "├──────────────────────────────────────┼─────────────────────────────┼─────────────────┤\n",
              "│ lstm_1 (\u001b[38;5;33mLSTM\u001b[0m)                        │ (\u001b[38;5;45mNone\u001b[0m, \u001b[38;5;34m100\u001b[0m, \u001b[38;5;34m50\u001b[0m)             │          \u001b[38;5;34m20,200\u001b[0m │\n",
              "├──────────────────────────────────────┼─────────────────────────────┼─────────────────┤\n",
              "│ lstm_2 (\u001b[38;5;33mLSTM\u001b[0m)                        │ (\u001b[38;5;45mNone\u001b[0m, \u001b[38;5;34m50\u001b[0m)                  │          \u001b[38;5;34m20,200\u001b[0m │\n",
              "├──────────────────────────────────────┼─────────────────────────────┼─────────────────┤\n",
              "│ dense (\u001b[38;5;33mDense\u001b[0m)                        │ (\u001b[38;5;45mNone\u001b[0m, \u001b[38;5;34m1\u001b[0m)                   │              \u001b[38;5;34m51\u001b[0m │\n",
              "└──────────────────────────────────────┴─────────────────────────────┴─────────────────┘\n"
            ],
            "text/html": [
              "<pre style=\"white-space:pre;overflow-x:auto;line-height:normal;font-family:Menlo,'DejaVu Sans Mono',consolas,'Courier New',monospace\">┏━━━━━━━━━━━━━━━━━━━━━━━━━━━━━━━━━━━━━━┳━━━━━━━━━━━━━━━━━━━━━━━━━━━━━┳━━━━━━━━━━━━━━━━━┓\n",
              "┃<span style=\"font-weight: bold\"> Layer (type)                         </span>┃<span style=\"font-weight: bold\"> Output Shape                </span>┃<span style=\"font-weight: bold\">         Param # </span>┃\n",
              "┡━━━━━━━━━━━━━━━━━━━━━━━━━━━━━━━━━━━━━━╇━━━━━━━━━━━━━━━━━━━━━━━━━━━━━╇━━━━━━━━━━━━━━━━━┩\n",
              "│ lstm (<span style=\"color: #0087ff; text-decoration-color: #0087ff\">LSTM</span>)                          │ (<span style=\"color: #00d7ff; text-decoration-color: #00d7ff\">None</span>, <span style=\"color: #00af00; text-decoration-color: #00af00\">100</span>, <span style=\"color: #00af00; text-decoration-color: #00af00\">50</span>)             │          <span style=\"color: #00af00; text-decoration-color: #00af00\">10,400</span> │\n",
              "├──────────────────────────────────────┼─────────────────────────────┼─────────────────┤\n",
              "│ lstm_1 (<span style=\"color: #0087ff; text-decoration-color: #0087ff\">LSTM</span>)                        │ (<span style=\"color: #00d7ff; text-decoration-color: #00d7ff\">None</span>, <span style=\"color: #00af00; text-decoration-color: #00af00\">100</span>, <span style=\"color: #00af00; text-decoration-color: #00af00\">50</span>)             │          <span style=\"color: #00af00; text-decoration-color: #00af00\">20,200</span> │\n",
              "├──────────────────────────────────────┼─────────────────────────────┼─────────────────┤\n",
              "│ lstm_2 (<span style=\"color: #0087ff; text-decoration-color: #0087ff\">LSTM</span>)                        │ (<span style=\"color: #00d7ff; text-decoration-color: #00d7ff\">None</span>, <span style=\"color: #00af00; text-decoration-color: #00af00\">50</span>)                  │          <span style=\"color: #00af00; text-decoration-color: #00af00\">20,200</span> │\n",
              "├──────────────────────────────────────┼─────────────────────────────┼─────────────────┤\n",
              "│ dense (<span style=\"color: #0087ff; text-decoration-color: #0087ff\">Dense</span>)                        │ (<span style=\"color: #00d7ff; text-decoration-color: #00d7ff\">None</span>, <span style=\"color: #00af00; text-decoration-color: #00af00\">1</span>)                   │              <span style=\"color: #00af00; text-decoration-color: #00af00\">51</span> │\n",
              "└──────────────────────────────────────┴─────────────────────────────┴─────────────────┘\n",
              "</pre>\n"
            ]
          },
          "metadata": {}
        },
        {
          "output_type": "display_data",
          "data": {
            "text/plain": [
              "\u001b[1m Total params: \u001b[0m\u001b[38;5;34m152,555\u001b[0m (595.92 KB)\n"
            ],
            "text/html": [
              "<pre style=\"white-space:pre;overflow-x:auto;line-height:normal;font-family:Menlo,'DejaVu Sans Mono',consolas,'Courier New',monospace\"><span style=\"font-weight: bold\"> Total params: </span><span style=\"color: #00af00; text-decoration-color: #00af00\">152,555</span> (595.92 KB)\n",
              "</pre>\n"
            ]
          },
          "metadata": {}
        },
        {
          "output_type": "display_data",
          "data": {
            "text/plain": [
              "\u001b[1m Trainable params: \u001b[0m\u001b[38;5;34m50,851\u001b[0m (198.64 KB)\n"
            ],
            "text/html": [
              "<pre style=\"white-space:pre;overflow-x:auto;line-height:normal;font-family:Menlo,'DejaVu Sans Mono',consolas,'Courier New',monospace\"><span style=\"font-weight: bold\"> Trainable params: </span><span style=\"color: #00af00; text-decoration-color: #00af00\">50,851</span> (198.64 KB)\n",
              "</pre>\n"
            ]
          },
          "metadata": {}
        },
        {
          "output_type": "display_data",
          "data": {
            "text/plain": [
              "\u001b[1m Non-trainable params: \u001b[0m\u001b[38;5;34m0\u001b[0m (0.00 B)\n"
            ],
            "text/html": [
              "<pre style=\"white-space:pre;overflow-x:auto;line-height:normal;font-family:Menlo,'DejaVu Sans Mono',consolas,'Courier New',monospace\"><span style=\"font-weight: bold\"> Non-trainable params: </span><span style=\"color: #00af00; text-decoration-color: #00af00\">0</span> (0.00 B)\n",
              "</pre>\n"
            ]
          },
          "metadata": {}
        },
        {
          "output_type": "display_data",
          "data": {
            "text/plain": [
              "\u001b[1m Optimizer params: \u001b[0m\u001b[38;5;34m101,704\u001b[0m (397.29 KB)\n"
            ],
            "text/html": [
              "<pre style=\"white-space:pre;overflow-x:auto;line-height:normal;font-family:Menlo,'DejaVu Sans Mono',consolas,'Courier New',monospace\"><span style=\"font-weight: bold\"> Optimizer params: </span><span style=\"color: #00af00; text-decoration-color: #00af00\">101,704</span> (397.29 KB)\n",
              "</pre>\n"
            ]
          },
          "metadata": {}
        }
      ]
    },
    {
      "cell_type": "code",
      "source": [
        "model.fit(x_train,y_train,validation_data=(x_test,y_test),epochs=100,batch_size=64,verbose=1)"
      ],
      "metadata": {
        "colab": {
          "base_uri": "https://localhost:8080/"
        },
        "id": "aODFnKdym1t8",
        "outputId": "9849e652-9849-458a-911f-7ebe14d7f624"
      },
      "execution_count": 92,
      "outputs": [
        {
          "output_type": "stream",
          "name": "stdout",
          "text": [
            "Epoch 1/100\n",
            "\u001b[1m23/23\u001b[0m \u001b[32m━━━━━━━━━━━━━━━━━━━━\u001b[0m\u001b[37m\u001b[0m \u001b[1m13s\u001b[0m 348ms/step - loss: 9.0003e-04 - val_loss: 0.0022\n",
            "Epoch 2/100\n",
            "\u001b[1m23/23\u001b[0m \u001b[32m━━━━━━━━━━━━━━━━━━━━\u001b[0m\u001b[37m\u001b[0m \u001b[1m6s\u001b[0m 177ms/step - loss: 5.0693e-05 - val_loss: 0.0023\n",
            "Epoch 3/100\n",
            "\u001b[1m23/23\u001b[0m \u001b[32m━━━━━━━━━━━━━━━━━━━━\u001b[0m\u001b[37m\u001b[0m \u001b[1m4s\u001b[0m 178ms/step - loss: 1.8505e-05 - val_loss: 0.0028\n",
            "Epoch 4/100\n",
            "\u001b[1m23/23\u001b[0m \u001b[32m━━━━━━━━━━━━━━━━━━━━\u001b[0m\u001b[37m\u001b[0m \u001b[1m6s\u001b[0m 249ms/step - loss: 1.3721e-05 - val_loss: 0.0028\n",
            "Epoch 5/100\n",
            "\u001b[1m23/23\u001b[0m \u001b[32m━━━━━━━━━━━━━━━━━━━━\u001b[0m\u001b[37m\u001b[0m \u001b[1m9s\u001b[0m 178ms/step - loss: 1.3681e-05 - val_loss: 0.0030\n",
            "Epoch 6/100\n",
            "\u001b[1m23/23\u001b[0m \u001b[32m━━━━━━━━━━━━━━━━━━━━\u001b[0m\u001b[37m\u001b[0m \u001b[1m7s\u001b[0m 266ms/step - loss: 1.2600e-05 - val_loss: 0.0027\n",
            "Epoch 7/100\n",
            "\u001b[1m23/23\u001b[0m \u001b[32m━━━━━━━━━━━━━━━━━━━━\u001b[0m\u001b[37m\u001b[0m \u001b[1m4s\u001b[0m 178ms/step - loss: 1.1577e-05 - val_loss: 0.0027\n",
            "Epoch 8/100\n",
            "\u001b[1m23/23\u001b[0m \u001b[32m━━━━━━━━━━━━━━━━━━━━\u001b[0m\u001b[37m\u001b[0m \u001b[1m4s\u001b[0m 180ms/step - loss: 1.2049e-05 - val_loss: 0.0027\n",
            "Epoch 9/100\n",
            "\u001b[1m23/23\u001b[0m \u001b[32m━━━━━━━━━━━━━━━━━━━━\u001b[0m\u001b[37m\u001b[0m \u001b[1m6s\u001b[0m 262ms/step - loss: 1.1636e-05 - val_loss: 0.0025\n",
            "Epoch 10/100\n",
            "\u001b[1m23/23\u001b[0m \u001b[32m━━━━━━━━━━━━━━━━━━━━\u001b[0m\u001b[37m\u001b[0m \u001b[1m4s\u001b[0m 179ms/step - loss: 1.1916e-05 - val_loss: 0.0022\n",
            "Epoch 11/100\n",
            "\u001b[1m23/23\u001b[0m \u001b[32m━━━━━━━━━━━━━━━━━━━━\u001b[0m\u001b[37m\u001b[0m \u001b[1m5s\u001b[0m 180ms/step - loss: 1.0645e-05 - val_loss: 0.0024\n",
            "Epoch 12/100\n",
            "\u001b[1m23/23\u001b[0m \u001b[32m━━━━━━━━━━━━━━━━━━━━\u001b[0m\u001b[37m\u001b[0m \u001b[1m6s\u001b[0m 211ms/step - loss: 1.1733e-05 - val_loss: 0.0020\n",
            "Epoch 13/100\n",
            "\u001b[1m23/23\u001b[0m \u001b[32m━━━━━━━━━━━━━━━━━━━━\u001b[0m\u001b[37m\u001b[0m \u001b[1m4s\u001b[0m 178ms/step - loss: 1.1754e-05 - val_loss: 0.0020\n",
            "Epoch 14/100\n",
            "\u001b[1m23/23\u001b[0m \u001b[32m━━━━━━━━━━━━━━━━━━━━\u001b[0m\u001b[37m\u001b[0m \u001b[1m7s\u001b[0m 252ms/step - loss: 1.2198e-05 - val_loss: 0.0021\n",
            "Epoch 15/100\n",
            "\u001b[1m23/23\u001b[0m \u001b[32m━━━━━━━━━━━━━━━━━━━━\u001b[0m\u001b[37m\u001b[0m \u001b[1m9s\u001b[0m 176ms/step - loss: 1.0044e-05 - val_loss: 0.0020\n",
            "Epoch 16/100\n",
            "\u001b[1m23/23\u001b[0m \u001b[32m━━━━━━━━━━━━━━━━━━━━\u001b[0m\u001b[37m\u001b[0m \u001b[1m7s\u001b[0m 266ms/step - loss: 1.0359e-05 - val_loss: 0.0024\n",
            "Epoch 17/100\n",
            "\u001b[1m23/23\u001b[0m \u001b[32m━━━━━━━━━━━━━━━━━━━━\u001b[0m\u001b[37m\u001b[0m \u001b[1m9s\u001b[0m 196ms/step - loss: 1.1230e-05 - val_loss: 0.0019\n",
            "Epoch 18/100\n",
            "\u001b[1m23/23\u001b[0m \u001b[32m━━━━━━━━━━━━━━━━━━━━\u001b[0m\u001b[37m\u001b[0m \u001b[1m6s\u001b[0m 249ms/step - loss: 1.2942e-05 - val_loss: 0.0019\n",
            "Epoch 19/100\n",
            "\u001b[1m23/23\u001b[0m \u001b[32m━━━━━━━━━━━━━━━━━━━━\u001b[0m\u001b[37m\u001b[0m \u001b[1m4s\u001b[0m 179ms/step - loss: 9.7648e-06 - val_loss: 0.0016\n",
            "Epoch 20/100\n",
            "\u001b[1m23/23\u001b[0m \u001b[32m━━━━━━━━━━━━━━━━━━━━\u001b[0m\u001b[37m\u001b[0m \u001b[1m6s\u001b[0m 201ms/step - loss: 1.1820e-05 - val_loss: 0.0018\n",
            "Epoch 21/100\n",
            "\u001b[1m23/23\u001b[0m \u001b[32m━━━━━━━━━━━━━━━━━━━━\u001b[0m\u001b[37m\u001b[0m \u001b[1m5s\u001b[0m 207ms/step - loss: 1.0337e-05 - val_loss: 0.0030\n",
            "Epoch 22/100\n",
            "\u001b[1m23/23\u001b[0m \u001b[32m━━━━━━━━━━━━━━━━━━━━\u001b[0m\u001b[37m\u001b[0m \u001b[1m4s\u001b[0m 178ms/step - loss: 1.3366e-05 - val_loss: 0.0028\n",
            "Epoch 23/100\n",
            "\u001b[1m23/23\u001b[0m \u001b[32m━━━━━━━━━━━━━━━━━━━━\u001b[0m\u001b[37m\u001b[0m \u001b[1m5s\u001b[0m 207ms/step - loss: 1.1219e-05 - val_loss: 0.0019\n",
            "Epoch 24/100\n",
            "\u001b[1m23/23\u001b[0m \u001b[32m━━━━━━━━━━━━━━━━━━━━\u001b[0m\u001b[37m\u001b[0m \u001b[1m5s\u001b[0m 205ms/step - loss: 1.0755e-05 - val_loss: 0.0020\n",
            "Epoch 25/100\n",
            "\u001b[1m23/23\u001b[0m \u001b[32m━━━━━━━━━━━━━━━━━━━━\u001b[0m\u001b[37m\u001b[0m \u001b[1m4s\u001b[0m 183ms/step - loss: 1.0341e-05 - val_loss: 0.0014\n",
            "Epoch 26/100\n",
            "\u001b[1m23/23\u001b[0m \u001b[32m━━━━━━━━━━━━━━━━━━━━\u001b[0m\u001b[37m\u001b[0m \u001b[1m7s\u001b[0m 247ms/step - loss: 1.2093e-05 - val_loss: 0.0018\n",
            "Epoch 27/100\n",
            "\u001b[1m23/23\u001b[0m \u001b[32m━━━━━━━━━━━━━━━━━━━━\u001b[0m\u001b[37m\u001b[0m \u001b[1m9s\u001b[0m 179ms/step - loss: 9.6195e-06 - val_loss: 0.0023\n",
            "Epoch 28/100\n",
            "\u001b[1m23/23\u001b[0m \u001b[32m━━━━━━━━━━━━━━━━━━━━\u001b[0m\u001b[37m\u001b[0m \u001b[1m6s\u001b[0m 257ms/step - loss: 9.1724e-06 - val_loss: 0.0020\n",
            "Epoch 29/100\n",
            "\u001b[1m23/23\u001b[0m \u001b[32m━━━━━━━━━━━━━━━━━━━━\u001b[0m\u001b[37m\u001b[0m \u001b[1m8s\u001b[0m 178ms/step - loss: 9.6264e-06 - val_loss: 0.0021\n",
            "Epoch 30/100\n",
            "\u001b[1m23/23\u001b[0m \u001b[32m━━━━━━━━━━━━━━━━━━━━\u001b[0m\u001b[37m\u001b[0m \u001b[1m7s\u001b[0m 255ms/step - loss: 1.4076e-05 - val_loss: 0.0018\n",
            "Epoch 31/100\n",
            "\u001b[1m23/23\u001b[0m \u001b[32m━━━━━━━━━━━━━━━━━━━━\u001b[0m\u001b[37m\u001b[0m \u001b[1m9s\u001b[0m 177ms/step - loss: 8.6913e-06 - val_loss: 0.0012\n",
            "Epoch 32/100\n",
            "\u001b[1m23/23\u001b[0m \u001b[32m━━━━━━━━━━━━━━━━━━━━\u001b[0m\u001b[37m\u001b[0m \u001b[1m6s\u001b[0m 256ms/step - loss: 1.0097e-05 - val_loss: 0.0014\n",
            "Epoch 33/100\n",
            "\u001b[1m23/23\u001b[0m \u001b[32m━━━━━━━━━━━━━━━━━━━━\u001b[0m\u001b[37m\u001b[0m \u001b[1m9s\u001b[0m 180ms/step - loss: 9.6768e-06 - val_loss: 0.0024\n",
            "Epoch 34/100\n",
            "\u001b[1m23/23\u001b[0m \u001b[32m━━━━━━━━━━━━━━━━━━━━\u001b[0m\u001b[37m\u001b[0m \u001b[1m6s\u001b[0m 261ms/step - loss: 1.0927e-05 - val_loss: 0.0018\n",
            "Epoch 35/100\n",
            "\u001b[1m23/23\u001b[0m \u001b[32m━━━━━━━━━━━━━━━━━━━━\u001b[0m\u001b[37m\u001b[0m \u001b[1m4s\u001b[0m 178ms/step - loss: 8.7506e-06 - val_loss: 0.0015\n",
            "Epoch 36/100\n",
            "\u001b[1m23/23\u001b[0m \u001b[32m━━━━━━━━━━━━━━━━━━━━\u001b[0m\u001b[37m\u001b[0m \u001b[1m5s\u001b[0m 193ms/step - loss: 8.3077e-06 - val_loss: 0.0015\n",
            "Epoch 37/100\n",
            "\u001b[1m23/23\u001b[0m \u001b[32m━━━━━━━━━━━━━━━━━━━━\u001b[0m\u001b[37m\u001b[0m \u001b[1m6s\u001b[0m 218ms/step - loss: 1.0353e-05 - val_loss: 0.0012\n",
            "Epoch 38/100\n",
            "\u001b[1m23/23\u001b[0m \u001b[32m━━━━━━━━━━━━━━━━━━━━\u001b[0m\u001b[37m\u001b[0m \u001b[1m4s\u001b[0m 179ms/step - loss: 9.3890e-06 - val_loss: 0.0014\n",
            "Epoch 39/100\n",
            "\u001b[1m23/23\u001b[0m \u001b[32m━━━━━━━━━━━━━━━━━━━━\u001b[0m\u001b[37m\u001b[0m \u001b[1m6s\u001b[0m 242ms/step - loss: 8.9943e-06 - val_loss: 0.0015\n",
            "Epoch 40/100\n",
            "\u001b[1m23/23\u001b[0m \u001b[32m━━━━━━━━━━━━━━━━━━━━\u001b[0m\u001b[37m\u001b[0m \u001b[1m9s\u001b[0m 180ms/step - loss: 8.2065e-06 - val_loss: 0.0014\n",
            "Epoch 41/100\n",
            "\u001b[1m23/23\u001b[0m \u001b[32m━━━━━━━━━━━━━━━━━━━━\u001b[0m\u001b[37m\u001b[0m \u001b[1m7s\u001b[0m 265ms/step - loss: 8.9158e-06 - val_loss: 0.0016\n",
            "Epoch 42/100\n",
            "\u001b[1m23/23\u001b[0m \u001b[32m━━━━━━━━━━━━━━━━━━━━\u001b[0m\u001b[37m\u001b[0m \u001b[1m8s\u001b[0m 177ms/step - loss: 9.6976e-06 - val_loss: 0.0012\n",
            "Epoch 43/100\n",
            "\u001b[1m23/23\u001b[0m \u001b[32m━━━━━━━━━━━━━━━━━━━━\u001b[0m\u001b[37m\u001b[0m \u001b[1m7s\u001b[0m 245ms/step - loss: 7.7720e-06 - val_loss: 0.0021\n",
            "Epoch 44/100\n",
            "\u001b[1m23/23\u001b[0m \u001b[32m━━━━━━━━━━━━━━━━━━━━\u001b[0m\u001b[37m\u001b[0m \u001b[1m4s\u001b[0m 177ms/step - loss: 9.9272e-06 - val_loss: 0.0019\n",
            "Epoch 45/100\n",
            "\u001b[1m23/23\u001b[0m \u001b[32m━━━━━━━━━━━━━━━━━━━━\u001b[0m\u001b[37m\u001b[0m \u001b[1m6s\u001b[0m 210ms/step - loss: 9.6163e-06 - val_loss: 0.0017\n",
            "Epoch 46/100\n",
            "\u001b[1m23/23\u001b[0m \u001b[32m━━━━━━━━━━━━━━━━━━━━\u001b[0m\u001b[37m\u001b[0m \u001b[1m5s\u001b[0m 225ms/step - loss: 7.6315e-06 - val_loss: 0.0017\n",
            "Epoch 47/100\n",
            "\u001b[1m23/23\u001b[0m \u001b[32m━━━━━━━━━━━━━━━━━━━━\u001b[0m\u001b[37m\u001b[0m \u001b[1m11s\u001b[0m 241ms/step - loss: 1.0717e-05 - val_loss: 0.0013\n",
            "Epoch 48/100\n",
            "\u001b[1m23/23\u001b[0m \u001b[32m━━━━━━━━━━━━━━━━━━━━\u001b[0m\u001b[37m\u001b[0m \u001b[1m9s\u001b[0m 177ms/step - loss: 1.0030e-05 - val_loss: 0.0012\n",
            "Epoch 49/100\n",
            "\u001b[1m23/23\u001b[0m \u001b[32m━━━━━━━━━━━━━━━━━━━━\u001b[0m\u001b[37m\u001b[0m \u001b[1m7s\u001b[0m 253ms/step - loss: 9.0382e-06 - val_loss: 0.0016\n",
            "Epoch 50/100\n",
            "\u001b[1m23/23\u001b[0m \u001b[32m━━━━━━━━━━━━━━━━━━━━\u001b[0m\u001b[37m\u001b[0m \u001b[1m4s\u001b[0m 179ms/step - loss: 9.1729e-06 - val_loss: 0.0016\n",
            "Epoch 51/100\n",
            "\u001b[1m23/23\u001b[0m \u001b[32m━━━━━━━━━━━━━━━━━━━━\u001b[0m\u001b[37m\u001b[0m \u001b[1m4s\u001b[0m 178ms/step - loss: 7.5782e-06 - val_loss: 0.0014\n",
            "Epoch 52/100\n",
            "\u001b[1m23/23\u001b[0m \u001b[32m━━━━━━━━━━━━━━━━━━━━\u001b[0m\u001b[37m\u001b[0m \u001b[1m6s\u001b[0m 252ms/step - loss: 8.6494e-06 - val_loss: 0.0011\n",
            "Epoch 53/100\n",
            "\u001b[1m23/23\u001b[0m \u001b[32m━━━━━━━━━━━━━━━━━━━━\u001b[0m\u001b[37m\u001b[0m \u001b[1m9s\u001b[0m 177ms/step - loss: 1.0465e-05 - val_loss: 0.0011\n",
            "Epoch 54/100\n",
            "\u001b[1m23/23\u001b[0m \u001b[32m━━━━━━━━━━━━━━━━━━━━\u001b[0m\u001b[37m\u001b[0m \u001b[1m6s\u001b[0m 209ms/step - loss: 1.0009e-05 - val_loss: 0.0011\n",
            "Epoch 55/100\n",
            "\u001b[1m23/23\u001b[0m \u001b[32m━━━━━━━━━━━━━━━━━━━━\u001b[0m\u001b[37m\u001b[0m \u001b[1m4s\u001b[0m 178ms/step - loss: 7.5058e-06 - val_loss: 9.9404e-04\n",
            "Epoch 56/100\n",
            "\u001b[1m23/23\u001b[0m \u001b[32m━━━━━━━━━━━━━━━━━━━━\u001b[0m\u001b[37m\u001b[0m \u001b[1m7s\u001b[0m 251ms/step - loss: 8.1845e-06 - val_loss: 9.6953e-04\n",
            "Epoch 57/100\n",
            "\u001b[1m23/23\u001b[0m \u001b[32m━━━━━━━━━━━━━━━━━━━━\u001b[0m\u001b[37m\u001b[0m \u001b[1m4s\u001b[0m 177ms/step - loss: 8.3133e-06 - val_loss: 0.0013\n",
            "Epoch 58/100\n",
            "\u001b[1m23/23\u001b[0m \u001b[32m━━━━━━━━━━━━━━━━━━━━\u001b[0m\u001b[37m\u001b[0m \u001b[1m5s\u001b[0m 181ms/step - loss: 6.3827e-06 - val_loss: 0.0012\n",
            "Epoch 59/100\n",
            "\u001b[1m23/23\u001b[0m \u001b[32m━━━━━━━━━━━━━━━━━━━━\u001b[0m\u001b[37m\u001b[0m \u001b[1m7s\u001b[0m 242ms/step - loss: 7.3544e-06 - val_loss: 0.0010\n",
            "Epoch 60/100\n",
            "\u001b[1m23/23\u001b[0m \u001b[32m━━━━━━━━━━━━━━━━━━━━\u001b[0m\u001b[37m\u001b[0m \u001b[1m9s\u001b[0m 201ms/step - loss: 6.2701e-06 - val_loss: 0.0015\n",
            "Epoch 61/100\n",
            "\u001b[1m23/23\u001b[0m \u001b[32m━━━━━━━━━━━━━━━━━━━━\u001b[0m\u001b[37m\u001b[0m \u001b[1m5s\u001b[0m 234ms/step - loss: 7.8726e-06 - val_loss: 0.0012\n",
            "Epoch 62/100\n",
            "\u001b[1m23/23\u001b[0m \u001b[32m━━━━━━━━━━━━━━━━━━━━\u001b[0m\u001b[37m\u001b[0m \u001b[1m10s\u001b[0m 215ms/step - loss: 9.1772e-06 - val_loss: 0.0017\n",
            "Epoch 63/100\n",
            "\u001b[1m23/23\u001b[0m \u001b[32m━━━━━━━━━━━━━━━━━━━━\u001b[0m\u001b[37m\u001b[0m \u001b[1m5s\u001b[0m 209ms/step - loss: 7.9753e-06 - val_loss: 0.0014\n",
            "Epoch 64/100\n",
            "\u001b[1m23/23\u001b[0m \u001b[32m━━━━━━━━━━━━━━━━━━━━\u001b[0m\u001b[37m\u001b[0m \u001b[1m4s\u001b[0m 178ms/step - loss: 8.3931e-06 - val_loss: 0.0013\n",
            "Epoch 65/100\n",
            "\u001b[1m23/23\u001b[0m \u001b[32m━━━━━━━━━━━━━━━━━━━━\u001b[0m\u001b[37m\u001b[0m \u001b[1m5s\u001b[0m 212ms/step - loss: 7.9878e-06 - val_loss: 0.0012\n",
            "Epoch 66/100\n",
            "\u001b[1m23/23\u001b[0m \u001b[32m━━━━━━━━━━━━━━━━━━━━\u001b[0m\u001b[37m\u001b[0m \u001b[1m5s\u001b[0m 204ms/step - loss: 6.4391e-06 - val_loss: 0.0014\n",
            "Epoch 67/100\n",
            "\u001b[1m23/23\u001b[0m \u001b[32m━━━━━━━━━━━━━━━━━━━━\u001b[0m\u001b[37m\u001b[0m \u001b[1m4s\u001b[0m 179ms/step - loss: 7.8834e-06 - val_loss: 0.0014\n",
            "Epoch 68/100\n",
            "\u001b[1m23/23\u001b[0m \u001b[32m━━━━━━━━━━━━━━━━━━━━\u001b[0m\u001b[37m\u001b[0m \u001b[1m7s\u001b[0m 253ms/step - loss: 7.6833e-06 - val_loss: 9.7941e-04\n",
            "Epoch 69/100\n",
            "\u001b[1m23/23\u001b[0m \u001b[32m━━━━━━━━━━━━━━━━━━━━\u001b[0m\u001b[37m\u001b[0m \u001b[1m9s\u001b[0m 178ms/step - loss: 7.7656e-06 - val_loss: 0.0012\n",
            "Epoch 70/100\n",
            "\u001b[1m23/23\u001b[0m \u001b[32m━━━━━━━━━━━━━━━━━━━━\u001b[0m\u001b[37m\u001b[0m \u001b[1m7s\u001b[0m 252ms/step - loss: 1.1625e-05 - val_loss: 8.3895e-04\n",
            "Epoch 71/100\n",
            "\u001b[1m23/23\u001b[0m \u001b[32m━━━━━━━━━━━━━━━━━━━━\u001b[0m\u001b[37m\u001b[0m \u001b[1m4s\u001b[0m 179ms/step - loss: 1.2123e-05 - val_loss: 6.8735e-04\n",
            "Epoch 72/100\n",
            "\u001b[1m23/23\u001b[0m \u001b[32m━━━━━━━━━━━━━━━━━━━━\u001b[0m\u001b[37m\u001b[0m \u001b[1m6s\u001b[0m 199ms/step - loss: 7.9869e-06 - val_loss: 6.8999e-04\n",
            "Epoch 73/100\n",
            "\u001b[1m23/23\u001b[0m \u001b[32m━━━━━━━━━━━━━━━━━━━━\u001b[0m\u001b[37m\u001b[0m \u001b[1m6s\u001b[0m 221ms/step - loss: 7.3880e-06 - val_loss: 8.5387e-04\n",
            "Epoch 74/100\n",
            "\u001b[1m23/23\u001b[0m \u001b[32m━━━━━━━━━━━━━━━━━━━━\u001b[0m\u001b[37m\u001b[0m \u001b[1m4s\u001b[0m 179ms/step - loss: 6.4369e-06 - val_loss: 0.0012\n",
            "Epoch 75/100\n",
            "\u001b[1m23/23\u001b[0m \u001b[32m━━━━━━━━━━━━━━━━━━━━\u001b[0m\u001b[37m\u001b[0m \u001b[1m5s\u001b[0m 209ms/step - loss: 6.7376e-06 - val_loss: 8.1192e-04\n",
            "Epoch 76/100\n",
            "\u001b[1m23/23\u001b[0m \u001b[32m━━━━━━━━━━━━━━━━━━━━\u001b[0m\u001b[37m\u001b[0m \u001b[1m5s\u001b[0m 211ms/step - loss: 6.3392e-06 - val_loss: 8.1944e-04\n",
            "Epoch 77/100\n",
            "\u001b[1m23/23\u001b[0m \u001b[32m━━━━━━━━━━━━━━━━━━━━\u001b[0m\u001b[37m\u001b[0m \u001b[1m4s\u001b[0m 178ms/step - loss: 6.4063e-06 - val_loss: 0.0011\n",
            "Epoch 78/100\n",
            "\u001b[1m23/23\u001b[0m \u001b[32m━━━━━━━━━━━━━━━━━━━━\u001b[0m\u001b[37m\u001b[0m \u001b[1m5s\u001b[0m 220ms/step - loss: 6.9786e-06 - val_loss: 0.0011\n",
            "Epoch 79/100\n",
            "\u001b[1m23/23\u001b[0m \u001b[32m━━━━━━━━━━━━━━━━━━━━\u001b[0m\u001b[37m\u001b[0m \u001b[1m5s\u001b[0m 213ms/step - loss: 6.7154e-06 - val_loss: 8.6701e-04\n",
            "Epoch 80/100\n",
            "\u001b[1m23/23\u001b[0m \u001b[32m━━━━━━━━━━━━━━━━━━━━\u001b[0m\u001b[37m\u001b[0m \u001b[1m4s\u001b[0m 181ms/step - loss: 6.3715e-06 - val_loss: 0.0011\n",
            "Epoch 81/100\n",
            "\u001b[1m23/23\u001b[0m \u001b[32m━━━━━━━━━━━━━━━━━━━━\u001b[0m\u001b[37m\u001b[0m \u001b[1m7s\u001b[0m 254ms/step - loss: 6.5829e-06 - val_loss: 8.6619e-04\n",
            "Epoch 82/100\n",
            "\u001b[1m23/23\u001b[0m \u001b[32m━━━━━━━━━━━━━━━━━━━━\u001b[0m\u001b[37m\u001b[0m \u001b[1m4s\u001b[0m 182ms/step - loss: 5.1777e-06 - val_loss: 6.8583e-04\n",
            "Epoch 83/100\n",
            "\u001b[1m23/23\u001b[0m \u001b[32m━━━━━━━━━━━━━━━━━━━━\u001b[0m\u001b[37m\u001b[0m \u001b[1m5s\u001b[0m 181ms/step - loss: 5.9110e-06 - val_loss: 8.8161e-04\n",
            "Epoch 84/100\n",
            "\u001b[1m23/23\u001b[0m \u001b[32m━━━━━━━━━━━━━━━━━━━━\u001b[0m\u001b[37m\u001b[0m \u001b[1m6s\u001b[0m 265ms/step - loss: 6.6586e-06 - val_loss: 6.0992e-04\n",
            "Epoch 85/100\n",
            "\u001b[1m23/23\u001b[0m \u001b[32m━━━━━━━━━━━━━━━━━━━━\u001b[0m\u001b[37m\u001b[0m \u001b[1m8s\u001b[0m 183ms/step - loss: 6.6878e-06 - val_loss: 7.5116e-04\n",
            "Epoch 86/100\n",
            "\u001b[1m23/23\u001b[0m \u001b[32m━━━━━━━━━━━━━━━━━━━━\u001b[0m\u001b[37m\u001b[0m \u001b[1m7s\u001b[0m 260ms/step - loss: 6.6675e-06 - val_loss: 7.4655e-04\n",
            "Epoch 87/100\n",
            "\u001b[1m23/23\u001b[0m \u001b[32m━━━━━━━━━━━━━━━━━━━━\u001b[0m\u001b[37m\u001b[0m \u001b[1m9s\u001b[0m 191ms/step - loss: 6.8872e-06 - val_loss: 9.1377e-04\n",
            "Epoch 88/100\n",
            "\u001b[1m23/23\u001b[0m \u001b[32m━━━━━━━━━━━━━━━━━━━━\u001b[0m\u001b[37m\u001b[0m \u001b[1m6s\u001b[0m 237ms/step - loss: 6.6754e-06 - val_loss: 9.9859e-04\n",
            "Epoch 89/100\n",
            "\u001b[1m23/23\u001b[0m \u001b[32m━━━━━━━━━━━━━━━━━━━━\u001b[0m\u001b[37m\u001b[0m \u001b[1m10s\u001b[0m 229ms/step - loss: 6.6088e-06 - val_loss: 0.0012\n",
            "Epoch 90/100\n",
            "\u001b[1m23/23\u001b[0m \u001b[32m━━━━━━━━━━━━━━━━━━━━\u001b[0m\u001b[37m\u001b[0m \u001b[1m5s\u001b[0m 209ms/step - loss: 7.6449e-06 - val_loss: 0.0016\n",
            "Epoch 91/100\n",
            "\u001b[1m23/23\u001b[0m \u001b[32m━━━━━━━━━━━━━━━━━━━━\u001b[0m\u001b[37m\u001b[0m \u001b[1m4s\u001b[0m 190ms/step - loss: 7.3577e-06 - val_loss: 7.5004e-04\n",
            "Epoch 92/100\n",
            "\u001b[1m23/23\u001b[0m \u001b[32m━━━━━━━━━━━━━━━━━━━━\u001b[0m\u001b[37m\u001b[0m \u001b[1m6s\u001b[0m 253ms/step - loss: 5.7541e-06 - val_loss: 5.9128e-04\n",
            "Epoch 93/100\n",
            "\u001b[1m23/23\u001b[0m \u001b[32m━━━━━━━━━━━━━━━━━━━━\u001b[0m\u001b[37m\u001b[0m \u001b[1m9s\u001b[0m 187ms/step - loss: 5.4261e-06 - val_loss: 6.2753e-04\n",
            "Epoch 94/100\n",
            "\u001b[1m23/23\u001b[0m \u001b[32m━━━━━━━━━━━━━━━━━━━━\u001b[0m\u001b[37m\u001b[0m \u001b[1m7s\u001b[0m 260ms/step - loss: 6.0408e-06 - val_loss: 0.0013\n",
            "Epoch 95/100\n",
            "\u001b[1m23/23\u001b[0m \u001b[32m━━━━━━━━━━━━━━━━━━━━\u001b[0m\u001b[37m\u001b[0m \u001b[1m9s\u001b[0m 183ms/step - loss: 6.7014e-06 - val_loss: 8.0184e-04\n",
            "Epoch 96/100\n",
            "\u001b[1m23/23\u001b[0m \u001b[32m━━━━━━━━━━━━━━━━━━━━\u001b[0m\u001b[37m\u001b[0m \u001b[1m6s\u001b[0m 226ms/step - loss: 4.9460e-06 - val_loss: 8.4983e-04\n",
            "Epoch 97/100\n",
            "\u001b[1m23/23\u001b[0m \u001b[32m━━━━━━━━━━━━━━━━━━━━\u001b[0m\u001b[37m\u001b[0m \u001b[1m10s\u001b[0m 227ms/step - loss: 5.2934e-06 - val_loss: 6.3369e-04\n",
            "Epoch 98/100\n",
            "\u001b[1m23/23\u001b[0m \u001b[32m━━━━━━━━━━━━━━━━━━━━\u001b[0m\u001b[37m\u001b[0m \u001b[1m9s\u001b[0m 179ms/step - loss: 5.8643e-06 - val_loss: 5.0090e-04\n",
            "Epoch 99/100\n",
            "\u001b[1m23/23\u001b[0m \u001b[32m━━━━━━━━━━━━━━━━━━━━\u001b[0m\u001b[37m\u001b[0m \u001b[1m7s\u001b[0m 270ms/step - loss: 5.7314e-06 - val_loss: 7.7909e-04\n",
            "Epoch 100/100\n",
            "\u001b[1m23/23\u001b[0m \u001b[32m━━━━━━━━━━━━━━━━━━━━\u001b[0m\u001b[37m\u001b[0m \u001b[1m4s\u001b[0m 181ms/step - loss: 4.9692e-06 - val_loss: 9.8925e-04\n"
          ]
        },
        {
          "output_type": "execute_result",
          "data": {
            "text/plain": [
              "<keras.src.callbacks.history.History at 0x7ccf8da4dd80>"
            ]
          },
          "metadata": {},
          "execution_count": 92
        }
      ]
    },
    {
      "cell_type": "code",
      "source": [
        "train_predict = model.predict(x_train)\n",
        "test_predict = model.predict(x_test)"
      ],
      "metadata": {
        "colab": {
          "base_uri": "https://localhost:8080/"
        },
        "id": "jVsy5Rc6nvJ1",
        "outputId": "5cb9c038-0a5a-4b2d-e7ba-79d63dca0137"
      },
      "execution_count": 93,
      "outputs": [
        {
          "output_type": "stream",
          "name": "stdout",
          "text": [
            "\u001b[1m45/45\u001b[0m \u001b[32m━━━━━━━━━━━━━━━━━━━━\u001b[0m\u001b[37m\u001b[0m \u001b[1m3s\u001b[0m 47ms/step\n",
            "\u001b[1m23/23\u001b[0m \u001b[32m━━━━━━━━━━━━━━━━━━━━\u001b[0m\u001b[37m\u001b[0m \u001b[1m1s\u001b[0m 62ms/step\n"
          ]
        }
      ]
    },
    {
      "cell_type": "code",
      "source": [
        "train_predict = scaler.inverse_transform(train_predict)\n",
        "test_predict = scaler.inverse_transform(test_predict)\n",
        "y_train = scaler.inverse_transform(y_train.reshape(-1,1))\n",
        "y_test = scaler.inverse_transform(y_test.reshape(-1,1))\n",
        "# inverse scaling to get actual values and reshaping y to 2d"
      ],
      "metadata": {
        "id": "5MIrxJpJoR_H"
      },
      "execution_count": 94,
      "outputs": []
    },
    {
      "cell_type": "code",
      "source": [
        "import math\n",
        "from sklearn.metrics import mean_squared_error\n",
        "training_MSE = math.sqrt(mean_squared_error(y_train,train_predict))"
      ],
      "metadata": {
        "id": "K6JW1wn9oahD"
      },
      "execution_count": 96,
      "outputs": []
    },
    {
      "cell_type": "code",
      "source": [
        "test_MSE = math.sqrt(mean_squared_error(y_test,test_predict))\n",
        "print(training_MSE)\n",
        "print(test_MSE)"
      ],
      "metadata": {
        "colab": {
          "base_uri": "https://localhost:8080/"
        },
        "id": "KRJQQRbeo991",
        "outputId": "eec7ce90-36fb-407a-f086-2203d759f796"
      },
      "execution_count": 97,
      "outputs": [
        {
          "output_type": "stream",
          "name": "stdout",
          "text": [
            "0.26913800283674494\n",
            "3.596472166917358\n"
          ]
        }
      ]
    },
    {
      "cell_type": "code",
      "source": [
        "#plotting\n",
        "#shifting train predictions for plotting\n",
        "look_back=100\n",
        "trainPredictPlot = np.empty_like(df)\n",
        "trainPredictPlot[:,:] = np.nan\n",
        "trainPredictPlot[look_back:len(train_predict)+look_back,:] = train_predict\n",
        "#shift test prediction for plotting\n",
        "testPredictPlot = np.empty_like(df)\n",
        "testPredictPlot[:,:] = np.nan\n",
        "testPredictPlot[len(train_predict)+(look_back*2)+1:len(df)-1,:] = test_predict\n",
        "#plot baseline and predictions\n",
        "plt.plot(scaler.inverse_transform(df))\n",
        "plt.plot(trainPredictPlot)\n",
        "plt.plot(testPredictPlot)\n",
        "plt.show()\n",
        "#green color is the predicted output of test data\n",
        "#orange is train predict data\n",
        "#blue is the original"
      ],
      "metadata": {
        "colab": {
          "base_uri": "https://localhost:8080/",
          "height": 434
        },
        "id": "yPyC3AZdsz_2",
        "outputId": "2e87c404-8e26-4ad0-ad29-8b6095130f7d"
      },
      "execution_count": 102,
      "outputs": [
        {
          "output_type": "display_data",
          "data": {
            "text/plain": [
              "<Figure size 640x480 with 1 Axes>"
            ],
            "image/png": "[encoded data removed]"
          },
          "metadata": {}
        }
      ]
    },
    {
      "cell_type": "code",
      "source": [
        "# len(test_data) = 830 so taking look back of 100 - 730\n",
        "# #Now we will predict the future 30 Days\n",
        "x_input = test_data[730:].reshape(1,-1)\n",
        "temp_input = list(x_input)    #converting input in a list\n",
        "temp_input = temp_input[0].tolist()"
      ],
      "metadata": {
        "id": "UIhwVZlxtg7i"
      },
      "execution_count": 103,
      "outputs": []
    },
    {
      "cell_type": "code",
      "source": [
        "from numpy import array\n",
        "out = []\n",
        "n_step = 100\n",
        "i=0\n",
        "while i<30:\n",
        "    if len(temp_input)>100:\n",
        "        x_input = np.array(temp_input[1:])\n",
        "        print(\"{} day input {}\".format(i,x_input))\n",
        "        x_input = x_input.reshape(1,-1)\n",
        "        x_input = x_input.reshape((1,n_step,1))\n",
        "        y_pred = model.predict(x_input,verbose=0)\n",
        "        print(\"{} day output {}\".format(i,y_pred))\n",
        "        temp_input.extend(y_pred[0].tolist())\n",
        "        temp_input = temp_input[1:]\n",
        "        out.extend(y_pred.tolist())\n",
        "        i=i+1\n",
        "    else:\n",
        "        x_input = x_input.reshape((1,n_step,1))\n",
        "        y_pred = model.predict(x_input,verbose=0)\n",
        "        print(y_pred[0])\n",
        "        temp_input.extend(y_pred[0].tolist())\n",
        "        print(len(temp_input))\n",
        "        out.extend(y_pred.tolist())\n",
        "        i=i+1\n",
        "\n",
        "print(out)"
      ],
      "metadata": {
        "colab": {
          "base_uri": "https://localhost:8080/"
        },
        "id": "LPdIXDX9u787",
        "outputId": "25ae6d55-243a-4394-9907-14346435e5d1"
      },
      "execution_count": 105,
      "outputs": [
        {
          "output_type": "stream",
          "name": "stdout",
          "text": [
            "[0.85195476]\n",
            "101\n",
            "1 day input [0.47112504 0.47525285 0.47427338 0.48889561 0.4860184  0.49523597\n",
            " 0.51608491 0.51751038 0.51942563 0.53244744 0.53467751 0.52955272\n",
            " 0.54209356 0.54479586 0.53389043 0.54700845 0.57440766 0.60214788\n",
            " 0.59244928 0.60885555 0.60485018 0.62664362 0.62764932 0.62659985\n",
            " 0.64209664 0.63123488 0.63084135 0.60319735 0.58588153 0.68265757\n",
            " 0.68509752 0.6875025  0.68408302 0.67500539 0.68767738 0.7153739\n",
            " 0.74124264 0.74760049 0.77152776 0.80623807 0.76127824 0.74593892\n",
            " 0.79962661 0.79066262 0.76491631 0.76398054 0.76938519 0.77763207\n",
            " 0.78615003 0.7954463  0.82040556 0.82664097 0.80529355 0.78508308\n",
            " 0.78601011 0.7860713  0.77810432 0.77383653 0.74708453 0.76547604\n",
            " 0.75782386 0.74226582 0.75700178 0.78828385 0.76703265 0.74792409\n",
            " 0.76029002 0.73073077 0.73629276 0.6622109  0.69122798 0.7166332\n",
            " 0.69261852 0.71846105 0.76308853 0.76328096 0.75143098 0.72203786\n",
            " 0.74631496 0.77230614 0.80161178 0.78774167 0.78649985 0.77193884\n",
            " 0.7818298  0.78638616 0.79475546 0.82338768 0.82101773 0.80457643\n",
            " 0.8246995  0.82999921 0.82618619 0.90357384 0.92692391 0.99191933\n",
            " 1.         0.96217639 0.9545942  0.85195476]\n",
            "1 day output [[0.85426766]]\n",
            "2 day input [0.47525285 0.47427338 0.48889561 0.4860184  0.49523597 0.51608491\n",
            " 0.51751038 0.51942563 0.53244744 0.53467751 0.52955272 0.54209356\n",
            " 0.54479586 0.53389043 0.54700845 0.57440766 0.60214788 0.59244928\n",
            " 0.60885555 0.60485018 0.62664362 0.62764932 0.62659985 0.64209664\n",
            " 0.63123488 0.63084135 0.60319735 0.58588153 0.68265757 0.68509752\n",
            " 0.6875025  0.68408302 0.67500539 0.68767738 0.7153739  0.74124264\n",
            " 0.74760049 0.77152776 0.80623807 0.76127824 0.74593892 0.79962661\n",
            " 0.79066262 0.76491631 0.76398054 0.76938519 0.77763207 0.78615003\n",
            " 0.7954463  0.82040556 0.82664097 0.80529355 0.78508308 0.78601011\n",
            " 0.7860713  0.77810432 0.77383653 0.74708453 0.76547604 0.75782386\n",
            " 0.74226582 0.75700178 0.78828385 0.76703265 0.74792409 0.76029002\n",
            " 0.73073077 0.73629276 0.6622109  0.69122798 0.7166332  0.69261852\n",
            " 0.71846105 0.76308853 0.76328096 0.75143098 0.72203786 0.74631496\n",
            " 0.77230614 0.80161178 0.78774167 0.78649985 0.77193884 0.7818298\n",
            " 0.78638616 0.79475546 0.82338768 0.82101773 0.80457643 0.8246995\n",
            " 0.82999921 0.82618619 0.90357384 0.92692391 0.99191933 1.\n",
            " 0.96217639 0.9545942  0.85195476 0.85426766]\n",
            "2 day output [[0.84609693]]\n",
            "3 day input [0.47427338 0.48889561 0.4860184  0.49523597 0.51608491 0.51751038\n",
            " 0.51942563 0.53244744 0.53467751 0.52955272 0.54209356 0.54479586\n",
            " 0.53389043 0.54700845 0.57440766 0.60214788 0.59244928 0.60885555\n",
            " 0.60485018 0.62664362 0.62764932 0.62659985 0.64209664 0.63123488\n",
            " 0.63084135 0.60319735 0.58588153 0.68265757 0.68509752 0.6875025\n",
            " 0.68408302 0.67500539 0.68767738 0.7153739  0.74124264 0.74760049\n",
            " 0.77152776 0.80623807 0.76127824 0.74593892 0.79962661 0.79066262\n",
            " 0.76491631 0.76398054 0.76938519 0.77763207 0.78615003 0.7954463\n",
            " 0.82040556 0.82664097 0.80529355 0.78508308 0.78601011 0.7860713\n",
            " 0.77810432 0.77383653 0.74708453 0.76547604 0.75782386 0.74226582\n",
            " 0.75700178 0.78828385 0.76703265 0.74792409 0.76029002 0.73073077\n",
            " 0.73629276 0.6622109  0.69122798 0.7166332  0.69261852 0.71846105\n",
            " 0.76308853 0.76328096 0.75143098 0.72203786 0.74631496 0.77230614\n",
            " 0.80161178 0.78774167 0.78649985 0.77193884 0.7818298  0.78638616\n",
            " 0.79475546 0.82338768 0.82101773 0.80457643 0.8246995  0.82999921\n",
            " 0.82618619 0.90357384 0.92692391 0.99191933 1.         0.96217639\n",
            " 0.9545942  0.85195476 0.85426766 0.84609693]\n",
            "3 day output [[0.83124024]]\n",
            "4 day input [0.48889561 0.4860184  0.49523597 0.51608491 0.51751038 0.51942563\n",
            " 0.53244744 0.53467751 0.52955272 0.54209356 0.54479586 0.53389043\n",
            " 0.54700845 0.57440766 0.60214788 0.59244928 0.60885555 0.60485018\n",
            " 0.62664362 0.62764932 0.62659985 0.64209664 0.63123488 0.63084135\n",
            " 0.60319735 0.58588153 0.68265757 0.68509752 0.6875025  0.68408302\n",
            " 0.67500539 0.68767738 0.7153739  0.74124264 0.74760049 0.77152776\n",
            " 0.80623807 0.76127824 0.74593892 0.79962661 0.79066262 0.76491631\n",
            " 0.76398054 0.76938519 0.77763207 0.78615003 0.7954463  0.82040556\n",
            " 0.82664097 0.80529355 0.78508308 0.78601011 0.7860713  0.77810432\n",
            " 0.77383653 0.74708453 0.76547604 0.75782386 0.74226582 0.75700178\n",
            " 0.78828385 0.76703265 0.74792409 0.76029002 0.73073077 0.73629276\n",
            " 0.6622109  0.69122798 0.7166332  0.69261852 0.71846105 0.76308853\n",
            " 0.76328096 0.75143098 0.72203786 0.74631496 0.77230614 0.80161178\n",
            " 0.78774167 0.78649985 0.77193884 0.7818298  0.78638616 0.79475546\n",
            " 0.82338768 0.82101773 0.80457643 0.8246995  0.82999921 0.82618619\n",
            " 0.90357384 0.92692391 0.99191933 1.         0.96217639 0.9545942\n",
            " 0.85195476 0.85426766 0.84609693 0.83124024]\n",
            "4 day output [[0.8129543]]\n",
            "5 day input [0.4860184  0.49523597 0.51608491 0.51751038 0.51942563 0.53244744\n",
            " 0.53467751 0.52955272 0.54209356 0.54479586 0.53389043 0.54700845\n",
            " 0.57440766 0.60214788 0.59244928 0.60885555 0.60485018 0.62664362\n",
            " 0.62764932 0.62659985 0.64209664 0.63123488 0.63084135 0.60319735\n",
            " 0.58588153 0.68265757 0.68509752 0.6875025  0.68408302 0.67500539\n",
            " 0.68767738 0.7153739  0.74124264 0.74760049 0.77152776 0.80623807\n",
            " 0.76127824 0.74593892 0.79962661 0.79066262 0.76491631 0.76398054\n",
            " 0.76938519 0.77763207 0.78615003 0.7954463  0.82040556 0.82664097\n",
            " 0.80529355 0.78508308 0.78601011 0.7860713  0.77810432 0.77383653\n",
            " 0.74708453 0.76547604 0.75782386 0.74226582 0.75700178 0.78828385\n",
            " 0.76703265 0.74792409 0.76029002 0.73073077 0.73629276 0.6622109\n",
            " 0.69122798 0.7166332  0.69261852 0.71846105 0.76308853 0.76328096\n",
            " 0.75143098 0.72203786 0.74631496 0.77230614 0.80161178 0.78774167\n",
            " 0.78649985 0.77193884 0.7818298  0.78638616 0.79475546 0.82338768\n",
            " 0.82101773 0.80457643 0.8246995  0.82999921 0.82618619 0.90357384\n",
            " 0.92692391 0.99191933 1.         0.96217639 0.9545942  0.85195476\n",
            " 0.85426766 0.84609693 0.83124024 0.81295431]\n",
            "5 day output [[0.79344964]]\n",
            "6 day input [0.49523597 0.51608491 0.51751038 0.51942563 0.53244744 0.53467751\n",
            " 0.52955272 0.54209356 0.54479586 0.53389043 0.54700845 0.57440766\n",
            " 0.60214788 0.59244928 0.60885555 0.60485018 0.62664362 0.62764932\n",
            " 0.62659985 0.64209664 0.63123488 0.63084135 0.60319735 0.58588153\n",
            " 0.68265757 0.68509752 0.6875025  0.68408302 0.67500539 0.68767738\n",
            " 0.7153739  0.74124264 0.74760049 0.77152776 0.80623807 0.76127824\n",
            " 0.74593892 0.79962661 0.79066262 0.76491631 0.76398054 0.76938519\n",
            " 0.77763207 0.78615003 0.7954463  0.82040556 0.82664097 0.80529355\n",
            " 0.78508308 0.78601011 0.7860713  0.77810432 0.77383653 0.74708453\n",
            " 0.76547604 0.75782386 0.74226582 0.75700178 0.78828385 0.76703265\n",
            " 0.74792409 0.76029002 0.73073077 0.73629276 0.6622109  0.69122798\n",
            " 0.7166332  0.69261852 0.71846105 0.76308853 0.76328096 0.75143098\n",
            " 0.72203786 0.74631496 0.77230614 0.80161178 0.78774167 0.78649985\n",
            " 0.77193884 0.7818298  0.78638616 0.79475546 0.82338768 0.82101773\n",
            " 0.80457643 0.8246995  0.82999921 0.82618619 0.90357384 0.92692391\n",
            " 0.99191933 1.         0.96217639 0.9545942  0.85195476 0.85426766\n",
            " 0.84609693 0.83124024 0.81295431 0.79344964]\n",
            "6 day output [[0.7740199]]\n",
            "7 day input [0.51608491 0.51751038 0.51942563 0.53244744 0.53467751 0.52955272\n",
            " 0.54209356 0.54479586 0.53389043 0.54700845 0.57440766 0.60214788\n",
            " 0.59244928 0.60885555 0.60485018 0.62664362 0.62764932 0.62659985\n",
            " 0.64209664 0.63123488 0.63084135 0.60319735 0.58588153 0.68265757\n",
            " 0.68509752 0.6875025  0.68408302 0.67500539 0.68767738 0.7153739\n",
            " 0.74124264 0.74760049 0.77152776 0.80623807 0.76127824 0.74593892\n",
            " 0.79962661 0.79066262 0.76491631 0.76398054 0.76938519 0.77763207\n",
            " 0.78615003 0.7954463  0.82040556 0.82664097 0.80529355 0.78508308\n",
            " 0.78601011 0.7860713  0.77810432 0.77383653 0.74708453 0.76547604\n",
            " 0.75782386 0.74226582 0.75700178 0.78828385 0.76703265 0.74792409\n",
            " 0.76029002 0.73073077 0.73629276 0.6622109  0.69122798 0.7166332\n",
            " 0.69261852 0.71846105 0.76308853 0.76328096 0.75143098 0.72203786\n",
            " 0.74631496 0.77230614 0.80161178 0.78774167 0.78649985 0.77193884\n",
            " 0.7818298  0.78638616 0.79475546 0.82338768 0.82101773 0.80457643\n",
            " 0.8246995  0.82999921 0.82618619 0.90357384 0.92692391 0.99191933\n",
            " 1.         0.96217639 0.9545942  0.85195476 0.85426766 0.84609693\n",
            " 0.83124024 0.81295431 0.79344964 0.7740199 ]\n",
            "7 day output [[0.75532734]]\n",
            "8 day input [0.51751038 0.51942563 0.53244744 0.53467751 0.52955272 0.54209356\n",
            " 0.54479586 0.53389043 0.54700845 0.57440766 0.60214788 0.59244928\n",
            " 0.60885555 0.60485018 0.62664362 0.62764932 0.62659985 0.64209664\n",
            " 0.63123488 0.63084135 0.60319735 0.58588153 0.68265757 0.68509752\n",
            " 0.6875025  0.68408302 0.67500539 0.68767738 0.7153739  0.74124264\n",
            " 0.74760049 0.77152776 0.80623807 0.76127824 0.74593892 0.79962661\n",
            " 0.79066262 0.76491631 0.76398054 0.76938519 0.77763207 0.78615003\n",
            " 0.7954463  0.82040556 0.82664097 0.80529355 0.78508308 0.78601011\n",
            " 0.7860713  0.77810432 0.77383653 0.74708453 0.76547604 0.75782386\n",
            " 0.74226582 0.75700178 0.78828385 0.76703265 0.74792409 0.76029002\n",
            " 0.73073077 0.73629276 0.6622109  0.69122798 0.7166332  0.69261852\n",
            " 0.71846105 0.76308853 0.76328096 0.75143098 0.72203786 0.74631496\n",
            " 0.77230614 0.80161178 0.78774167 0.78649985 0.77193884 0.7818298\n",
            " 0.78638616 0.79475546 0.82338768 0.82101773 0.80457643 0.8246995\n",
            " 0.82999921 0.82618619 0.90357384 0.92692391 0.99191933 1.\n",
            " 0.96217639 0.9545942  0.85195476 0.85426766 0.84609693 0.83124024\n",
            " 0.81295431 0.79344964 0.7740199  0.75532734]\n",
            "8 day output [[0.73766106]]\n",
            "9 day input [0.51942563 0.53244744 0.53467751 0.52955272 0.54209356 0.54479586\n",
            " 0.53389043 0.54700845 0.57440766 0.60214788 0.59244928 0.60885555\n",
            " 0.60485018 0.62664362 0.62764932 0.62659985 0.64209664 0.63123488\n",
            " 0.63084135 0.60319735 0.58588153 0.68265757 0.68509752 0.6875025\n",
            " 0.68408302 0.67500539 0.68767738 0.7153739  0.74124264 0.74760049\n",
            " 0.77152776 0.80623807 0.76127824 0.74593892 0.79962661 0.79066262\n",
            " 0.76491631 0.76398054 0.76938519 0.77763207 0.78615003 0.7954463\n",
            " 0.82040556 0.82664097 0.80529355 0.78508308 0.78601011 0.7860713\n",
            " 0.77810432 0.77383653 0.74708453 0.76547604 0.75782386 0.74226582\n",
            " 0.75700178 0.78828385 0.76703265 0.74792409 0.76029002 0.73073077\n",
            " 0.73629276 0.6622109  0.69122798 0.7166332  0.69261852 0.71846105\n",
            " 0.76308853 0.76328096 0.75143098 0.72203786 0.74631496 0.77230614\n",
            " 0.80161178 0.78774167 0.78649985 0.77193884 0.7818298  0.78638616\n",
            " 0.79475546 0.82338768 0.82101773 0.80457643 0.8246995  0.82999921\n",
            " 0.82618619 0.90357384 0.92692391 0.99191933 1.         0.96217639\n",
            " 0.9545942  0.85195476 0.85426766 0.84609693 0.83124024 0.81295431\n",
            " 0.79344964 0.7740199  0.75532734 0.73766106]\n",
            "9 day output [[0.72111285]]\n",
            "10 day input [0.53244744 0.53467751 0.52955272 0.54209356 0.54479586 0.53389043\n",
            " 0.54700845 0.57440766 0.60214788 0.59244928 0.60885555 0.60485018\n",
            " 0.62664362 0.62764932 0.62659985 0.64209664 0.63123488 0.63084135\n",
            " 0.60319735 0.58588153 0.68265757 0.68509752 0.6875025  0.68408302\n",
            " 0.67500539 0.68767738 0.7153739  0.74124264 0.74760049 0.77152776\n",
            " 0.80623807 0.76127824 0.74593892 0.79962661 0.79066262 0.76491631\n",
            " 0.76398054 0.76938519 0.77763207 0.78615003 0.7954463  0.82040556\n",
            " 0.82664097 0.80529355 0.78508308 0.78601011 0.7860713  0.77810432\n",
            " 0.77383653 0.74708453 0.76547604 0.75782386 0.74226582 0.75700178\n",
            " 0.78828385 0.76703265 0.74792409 0.76029002 0.73073077 0.73629276\n",
            " 0.6622109  0.69122798 0.7166332  0.69261852 0.71846105 0.76308853\n",
            " 0.76328096 0.75143098 0.72203786 0.74631496 0.77230614 0.80161178\n",
            " 0.78774167 0.78649985 0.77193884 0.7818298  0.78638616 0.79475546\n",
            " 0.82338768 0.82101773 0.80457643 0.8246995  0.82999921 0.82618619\n",
            " 0.90357384 0.92692391 0.99191933 1.         0.96217639 0.9545942\n",
            " 0.85195476 0.85426766 0.84609693 0.83124024 0.81295431 0.79344964\n",
            " 0.7740199  0.75532734 0.73766106 0.72111285]\n",
            "10 day output [[0.7056808]]\n",
            "11 day input [0.53467751 0.52955272 0.54209356 0.54479586 0.53389043 0.54700845\n",
            " 0.57440766 0.60214788 0.59244928 0.60885555 0.60485018 0.62664362\n",
            " 0.62764932 0.62659985 0.64209664 0.63123488 0.63084135 0.60319735\n",
            " 0.58588153 0.68265757 0.68509752 0.6875025  0.68408302 0.67500539\n",
            " 0.68767738 0.7153739  0.74124264 0.74760049 0.77152776 0.80623807\n",
            " 0.76127824 0.74593892 0.79962661 0.79066262 0.76491631 0.76398054\n",
            " 0.76938519 0.77763207 0.78615003 0.7954463  0.82040556 0.82664097\n",
            " 0.80529355 0.78508308 0.78601011 0.7860713  0.77810432 0.77383653\n",
            " 0.74708453 0.76547604 0.75782386 0.74226582 0.75700178 0.78828385\n",
            " 0.76703265 0.74792409 0.76029002 0.73073077 0.73629276 0.6622109\n",
            " 0.69122798 0.7166332  0.69261852 0.71846105 0.76308853 0.76328096\n",
            " 0.75143098 0.72203786 0.74631496 0.77230614 0.80161178 0.78774167\n",
            " 0.78649985 0.77193884 0.7818298  0.78638616 0.79475546 0.82338768\n",
            " 0.82101773 0.80457643 0.8246995  0.82999921 0.82618619 0.90357384\n",
            " 0.92692391 0.99191933 1.         0.96217639 0.9545942  0.85195476\n",
            " 0.85426766 0.84609693 0.83124024 0.81295431 0.79344964 0.7740199\n",
            " 0.75532734 0.73766106 0.72111285 0.70568079]\n",
            "11 day output [[0.691321]]\n",
            "12 day input [0.52955272 0.54209356 0.54479586 0.53389043 0.54700845 0.57440766\n",
            " 0.60214788 0.59244928 0.60885555 0.60485018 0.62664362 0.62764932\n",
            " 0.62659985 0.64209664 0.63123488 0.63084135 0.60319735 0.58588153\n",
            " 0.68265757 0.68509752 0.6875025  0.68408302 0.67500539 0.68767738\n",
            " 0.7153739  0.74124264 0.74760049 0.77152776 0.80623807 0.76127824\n",
            " 0.74593892 0.79962661 0.79066262 0.76491631 0.76398054 0.76938519\n",
            " 0.77763207 0.78615003 0.7954463  0.82040556 0.82664097 0.80529355\n",
            " 0.78508308 0.78601011 0.7860713  0.77810432 0.77383653 0.74708453\n",
            " 0.76547604 0.75782386 0.74226582 0.75700178 0.78828385 0.76703265\n",
            " 0.74792409 0.76029002 0.73073077 0.73629276 0.6622109  0.69122798\n",
            " 0.7166332  0.69261852 0.71846105 0.76308853 0.76328096 0.75143098\n",
            " 0.72203786 0.74631496 0.77230614 0.80161178 0.78774167 0.78649985\n",
            " 0.77193884 0.7818298  0.78638616 0.79475546 0.82338768 0.82101773\n",
            " 0.80457643 0.8246995  0.82999921 0.82618619 0.90357384 0.92692391\n",
            " 0.99191933 1.         0.96217639 0.9545942  0.85195476 0.85426766\n",
            " 0.84609693 0.83124024 0.81295431 0.79344964 0.7740199  0.75532734\n",
            " 0.73766106 0.72111285 0.70568079 0.69132102]\n",
            "12 day output [[0.6779706]]\n",
            "13 day input [0.54209356 0.54479586 0.53389043 0.54700845 0.57440766 0.60214788\n",
            " 0.59244928 0.60885555 0.60485018 0.62664362 0.62764932 0.62659985\n",
            " 0.64209664 0.63123488 0.63084135 0.60319735 0.58588153 0.68265757\n",
            " 0.68509752 0.6875025  0.68408302 0.67500539 0.68767738 0.7153739\n",
            " 0.74124264 0.74760049 0.77152776 0.80623807 0.76127824 0.74593892\n",
            " 0.79962661 0.79066262 0.76491631 0.76398054 0.76938519 0.77763207\n",
            " 0.78615003 0.7954463  0.82040556 0.82664097 0.80529355 0.78508308\n",
            " 0.78601011 0.7860713  0.77810432 0.77383653 0.74708453 0.76547604\n",
            " 0.75782386 0.74226582 0.75700178 0.78828385 0.76703265 0.74792409\n",
            " 0.76029002 0.73073077 0.73629276 0.6622109  0.69122798 0.7166332\n",
            " 0.69261852 0.71846105 0.76308853 0.76328096 0.75143098 0.72203786\n",
            " 0.74631496 0.77230614 0.80161178 0.78774167 0.78649985 0.77193884\n",
            " 0.7818298  0.78638616 0.79475546 0.82338768 0.82101773 0.80457643\n",
            " 0.8246995  0.82999921 0.82618619 0.90357384 0.92692391 0.99191933\n",
            " 1.         0.96217639 0.9545942  0.85195476 0.85426766 0.84609693\n",
            " 0.83124024 0.81295431 0.79344964 0.7740199  0.75532734 0.73766106\n",
            " 0.72111285 0.70568079 0.69132102 0.67797059]\n",
            "13 day output [[0.6655567]]\n",
            "14 day input [0.54479586 0.53389043 0.54700845 0.57440766 0.60214788 0.59244928\n",
            " 0.60885555 0.60485018 0.62664362 0.62764932 0.62659985 0.64209664\n",
            " 0.63123488 0.63084135 0.60319735 0.58588153 0.68265757 0.68509752\n",
            " 0.6875025  0.68408302 0.67500539 0.68767738 0.7153739  0.74124264\n",
            " 0.74760049 0.77152776 0.80623807 0.76127824 0.74593892 0.79962661\n",
            " 0.79066262 0.76491631 0.76398054 0.76938519 0.77763207 0.78615003\n",
            " 0.7954463  0.82040556 0.82664097 0.80529355 0.78508308 0.78601011\n",
            " 0.7860713  0.77810432 0.77383653 0.74708453 0.76547604 0.75782386\n",
            " 0.74226582 0.75700178 0.78828385 0.76703265 0.74792409 0.76029002\n",
            " 0.73073077 0.73629276 0.6622109  0.69122798 0.7166332  0.69261852\n",
            " 0.71846105 0.76308853 0.76328096 0.75143098 0.72203786 0.74631496\n",
            " 0.77230614 0.80161178 0.78774167 0.78649985 0.77193884 0.7818298\n",
            " 0.78638616 0.79475546 0.82338768 0.82101773 0.80457643 0.8246995\n",
            " 0.82999921 0.82618619 0.90357384 0.92692391 0.99191933 1.\n",
            " 0.96217639 0.9545942  0.85195476 0.85426766 0.84609693 0.83124024\n",
            " 0.81295431 0.79344964 0.7740199  0.75532734 0.73766106 0.72111285\n",
            " 0.70568079 0.69132102 0.67797059 0.66555673]\n",
            "14 day output [[0.6540007]]\n",
            "15 day input [0.53389043 0.54700845 0.57440766 0.60214788 0.59244928 0.60885555\n",
            " 0.60485018 0.62664362 0.62764932 0.62659985 0.64209664 0.63123488\n",
            " 0.63084135 0.60319735 0.58588153 0.68265757 0.68509752 0.6875025\n",
            " 0.68408302 0.67500539 0.68767738 0.7153739  0.74124264 0.74760049\n",
            " 0.77152776 0.80623807 0.76127824 0.74593892 0.79962661 0.79066262\n",
            " 0.76491631 0.76398054 0.76938519 0.77763207 0.78615003 0.7954463\n",
            " 0.82040556 0.82664097 0.80529355 0.78508308 0.78601011 0.7860713\n",
            " 0.77810432 0.77383653 0.74708453 0.76547604 0.75782386 0.74226582\n",
            " 0.75700178 0.78828385 0.76703265 0.74792409 0.76029002 0.73073077\n",
            " 0.73629276 0.6622109  0.69122798 0.7166332  0.69261852 0.71846105\n",
            " 0.76308853 0.76328096 0.75143098 0.72203786 0.74631496 0.77230614\n",
            " 0.80161178 0.78774167 0.78649985 0.77193884 0.7818298  0.78638616\n",
            " 0.79475546 0.82338768 0.82101773 0.80457643 0.8246995  0.82999921\n",
            " 0.82618619 0.90357384 0.92692391 0.99191933 1.         0.96217639\n",
            " 0.9545942  0.85195476 0.85426766 0.84609693 0.83124024 0.81295431\n",
            " 0.79344964 0.7740199  0.75532734 0.73766106 0.72111285 0.70568079\n",
            " 0.69132102 0.67797059 0.66555673 0.6540007 ]\n",
            "15 day output [[0.6432203]]\n",
            "16 day input [0.54700845 0.57440766 0.60214788 0.59244928 0.60885555 0.60485018\n",
            " 0.62664362 0.62764932 0.62659985 0.64209664 0.63123488 0.63084135\n",
            " 0.60319735 0.58588153 0.68265757 0.68509752 0.6875025  0.68408302\n",
            " 0.67500539 0.68767738 0.7153739  0.74124264 0.74760049 0.77152776\n",
            " 0.80623807 0.76127824 0.74593892 0.79962661 0.79066262 0.76491631\n",
            " 0.76398054 0.76938519 0.77763207 0.78615003 0.7954463  0.82040556\n",
            " 0.82664097 0.80529355 0.78508308 0.78601011 0.7860713  0.77810432\n",
            " 0.77383653 0.74708453 0.76547604 0.75782386 0.74226582 0.75700178\n",
            " 0.78828385 0.76703265 0.74792409 0.76029002 0.73073077 0.73629276\n",
            " 0.6622109  0.69122798 0.7166332  0.69261852 0.71846105 0.76308853\n",
            " 0.76328096 0.75143098 0.72203786 0.74631496 0.77230614 0.80161178\n",
            " 0.78774167 0.78649985 0.77193884 0.7818298  0.78638616 0.79475546\n",
            " 0.82338768 0.82101773 0.80457643 0.8246995  0.82999921 0.82618619\n",
            " 0.90357384 0.92692391 0.99191933 1.         0.96217639 0.9545942\n",
            " 0.85195476 0.85426766 0.84609693 0.83124024 0.81295431 0.79344964\n",
            " 0.7740199  0.75532734 0.73766106 0.72111285 0.70568079 0.69132102\n",
            " 0.67797059 0.66555673 0.6540007  0.64322031]\n",
            "16 day output [[0.63313293]]\n",
            "17 day input [0.57440766 0.60214788 0.59244928 0.60885555 0.60485018 0.62664362\n",
            " 0.62764932 0.62659985 0.64209664 0.63123488 0.63084135 0.60319735\n",
            " 0.58588153 0.68265757 0.68509752 0.6875025  0.68408302 0.67500539\n",
            " 0.68767738 0.7153739  0.74124264 0.74760049 0.77152776 0.80623807\n",
            " 0.76127824 0.74593892 0.79962661 0.79066262 0.76491631 0.76398054\n",
            " 0.76938519 0.77763207 0.78615003 0.7954463  0.82040556 0.82664097\n",
            " 0.80529355 0.78508308 0.78601011 0.7860713  0.77810432 0.77383653\n",
            " 0.74708453 0.76547604 0.75782386 0.74226582 0.75700178 0.78828385\n",
            " 0.76703265 0.74792409 0.76029002 0.73073077 0.73629276 0.6622109\n",
            " 0.69122798 0.7166332  0.69261852 0.71846105 0.76308853 0.76328096\n",
            " 0.75143098 0.72203786 0.74631496 0.77230614 0.80161178 0.78774167\n",
            " 0.78649985 0.77193884 0.7818298  0.78638616 0.79475546 0.82338768\n",
            " 0.82101773 0.80457643 0.8246995  0.82999921 0.82618619 0.90357384\n",
            " 0.92692391 0.99191933 1.         0.96217639 0.9545942  0.85195476\n",
            " 0.85426766 0.84609693 0.83124024 0.81295431 0.79344964 0.7740199\n",
            " 0.75532734 0.73766106 0.72111285 0.70568079 0.69132102 0.67797059\n",
            " 0.66555673 0.6540007  0.64322031 0.63313293]\n",
            "17 day output [[0.62365633]]\n",
            "18 day input [0.60214788 0.59244928 0.60885555 0.60485018 0.62664362 0.62764932\n",
            " 0.62659985 0.64209664 0.63123488 0.63084135 0.60319735 0.58588153\n",
            " 0.68265757 0.68509752 0.6875025  0.68408302 0.67500539 0.68767738\n",
            " 0.7153739  0.74124264 0.74760049 0.77152776 0.80623807 0.76127824\n",
            " 0.74593892 0.79962661 0.79066262 0.76491631 0.76398054 0.76938519\n",
            " 0.77763207 0.78615003 0.7954463  0.82040556 0.82664097 0.80529355\n",
            " 0.78508308 0.78601011 0.7860713  0.77810432 0.77383653 0.74708453\n",
            " 0.76547604 0.75782386 0.74226582 0.75700178 0.78828385 0.76703265\n",
            " 0.74792409 0.76029002 0.73073077 0.73629276 0.6622109  0.69122798\n",
            " 0.7166332  0.69261852 0.71846105 0.76308853 0.76328096 0.75143098\n",
            " 0.72203786 0.74631496 0.77230614 0.80161178 0.78774167 0.78649985\n",
            " 0.77193884 0.7818298  0.78638616 0.79475546 0.82338768 0.82101773\n",
            " 0.80457643 0.8246995  0.82999921 0.82618619 0.90357384 0.92692391\n",
            " 0.99191933 1.         0.96217639 0.9545942  0.85195476 0.85426766\n",
            " 0.84609693 0.83124024 0.81295431 0.79344964 0.7740199  0.75532734\n",
            " 0.73766106 0.72111285 0.70568079 0.69132102 0.67797059 0.66555673\n",
            " 0.6540007  0.64322031 0.63313293 0.62365633]\n",
            "18 day output [[0.6147128]]\n",
            "19 day input [0.59244928 0.60885555 0.60485018 0.62664362 0.62764932 0.62659985\n",
            " 0.64209664 0.63123488 0.63084135 0.60319735 0.58588153 0.68265757\n",
            " 0.68509752 0.6875025  0.68408302 0.67500539 0.68767738 0.7153739\n",
            " 0.74124264 0.74760049 0.77152776 0.80623807 0.76127824 0.74593892\n",
            " 0.79962661 0.79066262 0.76491631 0.76398054 0.76938519 0.77763207\n",
            " 0.78615003 0.7954463  0.82040556 0.82664097 0.80529355 0.78508308\n",
            " 0.78601011 0.7860713  0.77810432 0.77383653 0.74708453 0.76547604\n",
            " 0.75782386 0.74226582 0.75700178 0.78828385 0.76703265 0.74792409\n",
            " 0.76029002 0.73073077 0.73629276 0.6622109  0.69122798 0.7166332\n",
            " 0.69261852 0.71846105 0.76308853 0.76328096 0.75143098 0.72203786\n",
            " 0.74631496 0.77230614 0.80161178 0.78774167 0.78649985 0.77193884\n",
            " 0.7818298  0.78638616 0.79475546 0.82338768 0.82101773 0.80457643\n",
            " 0.8246995  0.82999921 0.82618619 0.90357384 0.92692391 0.99191933\n",
            " 1.         0.96217639 0.9545942  0.85195476 0.85426766 0.84609693\n",
            " 0.83124024 0.81295431 0.79344964 0.7740199  0.75532734 0.73766106\n",
            " 0.72111285 0.70568079 0.69132102 0.67797059 0.66555673 0.6540007\n",
            " 0.64322031 0.63313293 0.62365633 0.61471277]\n",
            "19 day output [[0.60623026]]\n",
            "20 day input [0.60885555 0.60485018 0.62664362 0.62764932 0.62659985 0.64209664\n",
            " 0.63123488 0.63084135 0.60319735 0.58588153 0.68265757 0.68509752\n",
            " 0.6875025  0.68408302 0.67500539 0.68767738 0.7153739  0.74124264\n",
            " 0.74760049 0.77152776 0.80623807 0.76127824 0.74593892 0.79962661\n",
            " 0.79066262 0.76491631 0.76398054 0.76938519 0.77763207 0.78615003\n",
            " 0.7954463  0.82040556 0.82664097 0.80529355 0.78508308 0.78601011\n",
            " 0.7860713  0.77810432 0.77383653 0.74708453 0.76547604 0.75782386\n",
            " 0.74226582 0.75700178 0.78828385 0.76703265 0.74792409 0.76029002\n",
            " 0.73073077 0.73629276 0.6622109  0.69122798 0.7166332  0.69261852\n",
            " 0.71846105 0.76308853 0.76328096 0.75143098 0.72203786 0.74631496\n",
            " 0.77230614 0.80161178 0.78774167 0.78649985 0.77193884 0.7818298\n",
            " 0.78638616 0.79475546 0.82338768 0.82101773 0.80457643 0.8246995\n",
            " 0.82999921 0.82618619 0.90357384 0.92692391 0.99191933 1.\n",
            " 0.96217639 0.9545942  0.85195476 0.85426766 0.84609693 0.83124024\n",
            " 0.81295431 0.79344964 0.7740199  0.75532734 0.73766106 0.72111285\n",
            " 0.70568079 0.69132102 0.67797059 0.66555673 0.6540007  0.64322031\n",
            " 0.63313293 0.62365633 0.61471277 0.60623026]\n",
            "20 day output [[0.5981435]]\n",
            "21 day input [0.60485018 0.62664362 0.62764932 0.62659985 0.64209664 0.63123488\n",
            " 0.63084135 0.60319735 0.58588153 0.68265757 0.68509752 0.6875025\n",
            " 0.68408302 0.67500539 0.68767738 0.7153739  0.74124264 0.74760049\n",
            " 0.77152776 0.80623807 0.76127824 0.74593892 0.79962661 0.79066262\n",
            " 0.76491631 0.76398054 0.76938519 0.77763207 0.78615003 0.7954463\n",
            " 0.82040556 0.82664097 0.80529355 0.78508308 0.78601011 0.7860713\n",
            " 0.77810432 0.77383653 0.74708453 0.76547604 0.75782386 0.74226582\n",
            " 0.75700178 0.78828385 0.76703265 0.74792409 0.76029002 0.73073077\n",
            " 0.73629276 0.6622109  0.69122798 0.7166332  0.69261852 0.71846105\n",
            " 0.76308853 0.76328096 0.75143098 0.72203786 0.74631496 0.77230614\n",
            " 0.80161178 0.78774167 0.78649985 0.77193884 0.7818298  0.78638616\n",
            " 0.79475546 0.82338768 0.82101773 0.80457643 0.8246995  0.82999921\n",
            " 0.82618619 0.90357384 0.92692391 0.99191933 1.         0.96217639\n",
            " 0.9545942  0.85195476 0.85426766 0.84609693 0.83124024 0.81295431\n",
            " 0.79344964 0.7740199  0.75532734 0.73766106 0.72111285 0.70568079\n",
            " 0.69132102 0.67797059 0.66555673 0.6540007  0.64322031 0.63313293\n",
            " 0.62365633 0.61471277 0.60623026 0.59814352]\n",
            "21 day output [[0.59039515]]\n",
            "22 day input [0.62664362 0.62764932 0.62659985 0.64209664 0.63123488 0.63084135\n",
            " 0.60319735 0.58588153 0.68265757 0.68509752 0.6875025  0.68408302\n",
            " 0.67500539 0.68767738 0.7153739  0.74124264 0.74760049 0.77152776\n",
            " 0.80623807 0.76127824 0.74593892 0.79962661 0.79066262 0.76491631\n",
            " 0.76398054 0.76938519 0.77763207 0.78615003 0.7954463  0.82040556\n",
            " 0.82664097 0.80529355 0.78508308 0.78601011 0.7860713  0.77810432\n",
            " 0.77383653 0.74708453 0.76547604 0.75782386 0.74226582 0.75700178\n",
            " 0.78828385 0.76703265 0.74792409 0.76029002 0.73073077 0.73629276\n",
            " 0.6622109  0.69122798 0.7166332  0.69261852 0.71846105 0.76308853\n",
            " 0.76328096 0.75143098 0.72203786 0.74631496 0.77230614 0.80161178\n",
            " 0.78774167 0.78649985 0.77193884 0.7818298  0.78638616 0.79475546\n",
            " 0.82338768 0.82101773 0.80457643 0.8246995  0.82999921 0.82618619\n",
            " 0.90357384 0.92692391 0.99191933 1.         0.96217639 0.9545942\n",
            " 0.85195476 0.85426766 0.84609693 0.83124024 0.81295431 0.79344964\n",
            " 0.7740199  0.75532734 0.73766106 0.72111285 0.70568079 0.69132102\n",
            " 0.67797059 0.66555673 0.6540007  0.64322031 0.63313293 0.62365633\n",
            " 0.61471277 0.60623026 0.59814352 0.59039515]\n",
            "22 day output [[0.58293605]]\n",
            "23 day input [0.62764932 0.62659985 0.64209664 0.63123488 0.63084135 0.60319735\n",
            " 0.58588153 0.68265757 0.68509752 0.6875025  0.68408302 0.67500539\n",
            " 0.68767738 0.7153739  0.74124264 0.74760049 0.77152776 0.80623807\n",
            " 0.76127824 0.74593892 0.79962661 0.79066262 0.76491631 0.76398054\n",
            " 0.76938519 0.77763207 0.78615003 0.7954463  0.82040556 0.82664097\n",
            " 0.80529355 0.78508308 0.78601011 0.7860713  0.77810432 0.77383653\n",
            " 0.74708453 0.76547604 0.75782386 0.74226582 0.75700178 0.78828385\n",
            " 0.76703265 0.74792409 0.76029002 0.73073077 0.73629276 0.6622109\n",
            " 0.69122798 0.7166332  0.69261852 0.71846105 0.76308853 0.76328096\n",
            " 0.75143098 0.72203786 0.74631496 0.77230614 0.80161178 0.78774167\n",
            " 0.78649985 0.77193884 0.7818298  0.78638616 0.79475546 0.82338768\n",
            " 0.82101773 0.80457643 0.8246995  0.82999921 0.82618619 0.90357384\n",
            " 0.92692391 0.99191933 1.         0.96217639 0.9545942  0.85195476\n",
            " 0.85426766 0.84609693 0.83124024 0.81295431 0.79344964 0.7740199\n",
            " 0.75532734 0.73766106 0.72111285 0.70568079 0.69132102 0.67797059\n",
            " 0.66555673 0.6540007  0.64322031 0.63313293 0.62365633 0.61471277\n",
            " 0.60623026 0.59814352 0.59039515 0.58293605]\n",
            "23 day output [[0.575725]]\n",
            "24 day input [0.62659985 0.64209664 0.63123488 0.63084135 0.60319735 0.58588153\n",
            " 0.68265757 0.68509752 0.6875025  0.68408302 0.67500539 0.68767738\n",
            " 0.7153739  0.74124264 0.74760049 0.77152776 0.80623807 0.76127824\n",
            " 0.74593892 0.79962661 0.79066262 0.76491631 0.76398054 0.76938519\n",
            " 0.77763207 0.78615003 0.7954463  0.82040556 0.82664097 0.80529355\n",
            " 0.78508308 0.78601011 0.7860713  0.77810432 0.77383653 0.74708453\n",
            " 0.76547604 0.75782386 0.74226582 0.75700178 0.78828385 0.76703265\n",
            " 0.74792409 0.76029002 0.73073077 0.73629276 0.6622109  0.69122798\n",
            " 0.7166332  0.69261852 0.71846105 0.76308853 0.76328096 0.75143098\n",
            " 0.72203786 0.74631496 0.77230614 0.80161178 0.78774167 0.78649985\n",
            " 0.77193884 0.7818298  0.78638616 0.79475546 0.82338768 0.82101773\n",
            " 0.80457643 0.8246995  0.82999921 0.82618619 0.90357384 0.92692391\n",
            " 0.99191933 1.         0.96217639 0.9545942  0.85195476 0.85426766\n",
            " 0.84609693 0.83124024 0.81295431 0.79344964 0.7740199  0.75532734\n",
            " 0.73766106 0.72111285 0.70568079 0.69132102 0.67797059 0.66555673\n",
            " 0.6540007  0.64322031 0.63313293 0.62365633 0.61471277 0.60623026\n",
            " 0.59814352 0.59039515 0.58293605 0.57572502]\n",
            "24 day output [[0.56872886]]\n",
            "25 day input [0.64209664 0.63123488 0.63084135 0.60319735 0.58588153 0.68265757\n",
            " 0.68509752 0.6875025  0.68408302 0.67500539 0.68767738 0.7153739\n",
            " 0.74124264 0.74760049 0.77152776 0.80623807 0.76127824 0.74593892\n",
            " 0.79962661 0.79066262 0.76491631 0.76398054 0.76938519 0.77763207\n",
            " 0.78615003 0.7954463  0.82040556 0.82664097 0.80529355 0.78508308\n",
            " 0.78601011 0.7860713  0.77810432 0.77383653 0.74708453 0.76547604\n",
            " 0.75782386 0.74226582 0.75700178 0.78828385 0.76703265 0.74792409\n",
            " 0.76029002 0.73073077 0.73629276 0.6622109  0.69122798 0.7166332\n",
            " 0.69261852 0.71846105 0.76308853 0.76328096 0.75143098 0.72203786\n",
            " 0.74631496 0.77230614 0.80161178 0.78774167 0.78649985 0.77193884\n",
            " 0.7818298  0.78638616 0.79475546 0.82338768 0.82101773 0.80457643\n",
            " 0.8246995  0.82999921 0.82618619 0.90357384 0.92692391 0.99191933\n",
            " 1.         0.96217639 0.9545942  0.85195476 0.85426766 0.84609693\n",
            " 0.83124024 0.81295431 0.79344964 0.7740199  0.75532734 0.73766106\n",
            " 0.72111285 0.70568079 0.69132102 0.67797059 0.66555673 0.6540007\n",
            " 0.64322031 0.63313293 0.62365633 0.61471277 0.60623026 0.59814352\n",
            " 0.59039515 0.58293605 0.57572502 0.56872886]\n",
            "25 day output [[0.56192046]]\n",
            "26 day input [0.63123488 0.63084135 0.60319735 0.58588153 0.68265757 0.68509752\n",
            " 0.6875025  0.68408302 0.67500539 0.68767738 0.7153739  0.74124264\n",
            " 0.74760049 0.77152776 0.80623807 0.76127824 0.74593892 0.79962661\n",
            " 0.79066262 0.76491631 0.76398054 0.76938519 0.77763207 0.78615003\n",
            " 0.7954463  0.82040556 0.82664097 0.80529355 0.78508308 0.78601011\n",
            " 0.7860713  0.77810432 0.77383653 0.74708453 0.76547604 0.75782386\n",
            " 0.74226582 0.75700178 0.78828385 0.76703265 0.74792409 0.76029002\n",
            " 0.73073077 0.73629276 0.6622109  0.69122798 0.7166332  0.69261852\n",
            " 0.71846105 0.76308853 0.76328096 0.75143098 0.72203786 0.74631496\n",
            " 0.77230614 0.80161178 0.78774167 0.78649985 0.77193884 0.7818298\n",
            " 0.78638616 0.79475546 0.82338768 0.82101773 0.80457643 0.8246995\n",
            " 0.82999921 0.82618619 0.90357384 0.92692391 0.99191933 1.\n",
            " 0.96217639 0.9545942  0.85195476 0.85426766 0.84609693 0.83124024\n",
            " 0.81295431 0.79344964 0.7740199  0.75532734 0.73766106 0.72111285\n",
            " 0.70568079 0.69132102 0.67797059 0.66555673 0.6540007  0.64322031\n",
            " 0.63313293 0.62365633 0.61471277 0.60623026 0.59814352 0.59039515\n",
            " 0.58293605 0.57572502 0.56872886 0.56192046]\n",
            "26 day output [[0.55527943]]\n",
            "27 day input [0.63084135 0.60319735 0.58588153 0.68265757 0.68509752 0.6875025\n",
            " 0.68408302 0.67500539 0.68767738 0.7153739  0.74124264 0.74760049\n",
            " 0.77152776 0.80623807 0.76127824 0.74593892 0.79962661 0.79066262\n",
            " 0.76491631 0.76398054 0.76938519 0.77763207 0.78615003 0.7954463\n",
            " 0.82040556 0.82664097 0.80529355 0.78508308 0.78601011 0.7860713\n",
            " 0.77810432 0.77383653 0.74708453 0.76547604 0.75782386 0.74226582\n",
            " 0.75700178 0.78828385 0.76703265 0.74792409 0.76029002 0.73073077\n",
            " 0.73629276 0.6622109  0.69122798 0.7166332  0.69261852 0.71846105\n",
            " 0.76308853 0.76328096 0.75143098 0.72203786 0.74631496 0.77230614\n",
            " 0.80161178 0.78774167 0.78649985 0.77193884 0.7818298  0.78638616\n",
            " 0.79475546 0.82338768 0.82101773 0.80457643 0.8246995  0.82999921\n",
            " 0.82618619 0.90357384 0.92692391 0.99191933 1.         0.96217639\n",
            " 0.9545942  0.85195476 0.85426766 0.84609693 0.83124024 0.81295431\n",
            " 0.79344964 0.7740199  0.75532734 0.73766106 0.72111285 0.70568079\n",
            " 0.69132102 0.67797059 0.66555673 0.6540007  0.64322031 0.63313293\n",
            " 0.62365633 0.61471277 0.60623026 0.59814352 0.59039515 0.58293605\n",
            " 0.57572502 0.56872886 0.56192046 0.55527943]\n",
            "27 day output [[0.5487902]]\n",
            "28 day input [0.60319735 0.58588153 0.68265757 0.68509752 0.6875025  0.68408302\n",
            " 0.67500539 0.68767738 0.7153739  0.74124264 0.74760049 0.77152776\n",
            " 0.80623807 0.76127824 0.74593892 0.79962661 0.79066262 0.76491631\n",
            " 0.76398054 0.76938519 0.77763207 0.78615003 0.7954463  0.82040556\n",
            " 0.82664097 0.80529355 0.78508308 0.78601011 0.7860713  0.77810432\n",
            " 0.77383653 0.74708453 0.76547604 0.75782386 0.74226582 0.75700178\n",
            " 0.78828385 0.76703265 0.74792409 0.76029002 0.73073077 0.73629276\n",
            " 0.6622109  0.69122798 0.7166332  0.69261852 0.71846105 0.76308853\n",
            " 0.76328096 0.75143098 0.72203786 0.74631496 0.77230614 0.80161178\n",
            " 0.78774167 0.78649985 0.77193884 0.7818298  0.78638616 0.79475546\n",
            " 0.82338768 0.82101773 0.80457643 0.8246995  0.82999921 0.82618619\n",
            " 0.90357384 0.92692391 0.99191933 1.         0.96217639 0.9545942\n",
            " 0.85195476 0.85426766 0.84609693 0.83124024 0.81295431 0.79344964\n",
            " 0.7740199  0.75532734 0.73766106 0.72111285 0.70568079 0.69132102\n",
            " 0.67797059 0.66555673 0.6540007  0.64322031 0.63313293 0.62365633\n",
            " 0.61471277 0.60623026 0.59814352 0.59039515 0.58293605 0.57572502\n",
            " 0.56872886 0.56192046 0.55527943 0.54879022]\n",
            "28 day output [[0.54244184]]\n",
            "29 day input [0.58588153 0.68265757 0.68509752 0.6875025  0.68408302 0.67500539\n",
            " 0.68767738 0.7153739  0.74124264 0.74760049 0.77152776 0.80623807\n",
            " 0.76127824 0.74593892 0.79962661 0.79066262 0.76491631 0.76398054\n",
            " 0.76938519 0.77763207 0.78615003 0.7954463  0.82040556 0.82664097\n",
            " 0.80529355 0.78508308 0.78601011 0.7860713  0.77810432 0.77383653\n",
            " 0.74708453 0.76547604 0.75782386 0.74226582 0.75700178 0.78828385\n",
            " 0.76703265 0.74792409 0.76029002 0.73073077 0.73629276 0.6622109\n",
            " 0.69122798 0.7166332  0.69261852 0.71846105 0.76308853 0.76328096\n",
            " 0.75143098 0.72203786 0.74631496 0.77230614 0.80161178 0.78774167\n",
            " 0.78649985 0.77193884 0.7818298  0.78638616 0.79475546 0.82338768\n",
            " 0.82101773 0.80457643 0.8246995  0.82999921 0.82618619 0.90357384\n",
            " 0.92692391 0.99191933 1.         0.96217639 0.9545942  0.85195476\n",
            " 0.85426766 0.84609693 0.83124024 0.81295431 0.79344964 0.7740199\n",
            " 0.75532734 0.73766106 0.72111285 0.70568079 0.69132102 0.67797059\n",
            " 0.66555673 0.6540007  0.64322031 0.63313293 0.62365633 0.61471277\n",
            " 0.60623026 0.59814352 0.59039515 0.58293605 0.57572502 0.56872886\n",
            " 0.56192046 0.55527943 0.54879022 0.54244184]\n",
            "29 day output [[0.5362265]]\n",
            "[[0.8519547581672668], [0.8542676568031311], [0.846096932888031], [0.8312402367591858], [0.812954306602478], [0.7934496402740479], [0.7740198969841003], [0.7553273439407349], [0.7376610636711121], [0.721112847328186], [0.705680787563324], [0.6913210153579712], [0.6779705882072449], [0.6655567288398743], [0.6540006995201111], [0.6432203054428101], [0.6331329345703125], [0.6236563324928284], [0.6147127747535706], [0.6062302589416504], [0.5981435179710388], [0.5903951525688171], [0.5829360485076904], [0.5757250189781189], [0.5687288641929626], [0.5619204640388489], [0.5552794337272644], [0.5487902164459229], [0.5424418449401855], [0.5362265110015869]]\n"
          ]
        }
      ]
    },
    {
      "cell_type": "code",
      "source": [
        "#plotting this 30 day data\n",
        "day_new = np.arange(1,101)\n",
        "day_pred = np.arange(101,131)"
      ],
      "metadata": {
        "id": "4Hr8iytLw81c"
      },
      "execution_count": 106,
      "outputs": []
    },
    {
      "cell_type": "code",
      "source": [
        "import matplotlib.pyplot as plt"
      ],
      "metadata": {
        "id": "erR7MVDsyFfr"
      },
      "execution_count": 107,
      "outputs": []
    },
    {
      "cell_type": "code",
      "source": [
        "# len(df) = 2369\n",
        "df2 = df.tolist()\n",
        "df2.extend(out)\n",
        "plt.plot(day_new,scaler.inverse_transform(df[2269:]))\n",
        "plt.plot(day_pred,scaler.inverse_transform(out))\n",
        "plt.show()"
      ],
      "metadata": {
        "colab": {
          "base_uri": "https://localhost:8080/",
          "height": 430
        },
        "id": "qnPi-sPPyHju",
        "outputId": "291a51b7-0d51-4b65-b46a-c176bf1b5240"
      },
      "execution_count": 110,
      "outputs": [
        {
          "output_type": "display_data",
          "data": {
            "text/plain": [
              "<Figure size 640x480 with 1 Axes>"
            ],
            "image/png": "[encoded data removed]"
          },
          "metadata": {}
        }
      ]
    },
    {
      "cell_type": "code",
      "source": [
        "plt.plot(df2[2000:])"
      ],
      "metadata": {
        "colab": {
          "base_uri": "https://localhost:8080/",
          "height": 447
        },
        "id": "eS4bXXpPyOdS",
        "outputId": "e2292880-7afd-4aa4-cd10-f31439a50e00"
      },
      "execution_count": 111,
      "outputs": [
        {
          "output_type": "execute_result",
          "data": {
            "text/plain": [
              "[<matplotlib.lines.Line2D at 0x7ccf7f100850>]"
            ]
          },
          "metadata": {},
          "execution_count": 111
        },
        {
          "output_type": "display_data",
          "data": {
            "text/plain": [
              "<Figure size 640x480 with 1 Axes>"
            ],
            "image/png": "[encoded data removed]"
          },
          "metadata": {}
        }
      ]
    },
    {
      "cell_type": "code",
      "source": [
        "import pickle\n",
        "with open(\"stock_model.sav\", \"wb\") as model_file:\n",
        "    pickle.dump(model, model_file)\n",
        "with open(\"scaler.sav\", \"wb\") as scaler_file:\n",
        "    pickle.dump(scaler, scaler_file)"
      ],
      "metadata": {
        "id": "-heUExX5zN9Z"
      },
      "execution_count": 113,
      "outputs": []
    },
    {
      "cell_type": "code",
      "source": [],
      "metadata": {
        "id": "wMzF-0I94U4h"
      },
      "execution_count": null,
      "outputs": []
    }
  ]
}